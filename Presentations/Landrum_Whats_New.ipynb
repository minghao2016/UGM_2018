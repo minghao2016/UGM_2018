{
 "cells": [
  {
   "cell_type": "markdown",
   "metadata": {
    "slideshow": {
     "slide_type": "slide"
    }
   },
   "source": [
    "# What's new since last year's UGM?\n",
    "# 2018 RDKit UGM Edition\n",
    "\n",
    "Not an exhaustive list, just some examples. Covers 2017.09, 2018.03, and some of the forthcoming 2018.09 release."
   ]
  },
  {
   "cell_type": "markdown",
   "metadata": {
    "slideshow": {
     "slide_type": "slide"
    }
   },
   "source": [
    "## Contributors\n",
    "\n",
    "Not an exhaustive list, covers people who have been acknowledged in the release notes of recent versions or who have contributed code or bug reports to the upcoming release. \n",
    "<table><tr><td>\n",
    "    <ul>\n",
    "<li>'clinntt'\n",
    "<li>'hjuinj'\n",
    "<li>'iwatobipen'\n",
    "<li>'jaechanglim'\n",
    "<li>'phenethyl'\n",
    "<li>'xiaotaw'\n",
    "<li>Alain Vaucher\n",
    "<li>Andrew Dalke\n",
    "<li>Axel Pahl\n",
    "<li>Boran Adas\n",
    "<li>Brian Cole\n",
    "<li>Brian Kelley\n",
    "<li>Brian Cole\n",
    "<li>Cameron Pye\n",
    "    </ul>\n",
    "    </td><td>\n",
    "    <ul>\n",
    "<li>Chris Morris\n",
    "<li>Christian Ribeaud\n",
    "<li>Dan Nealschneider\n",
    "<li>Francois Berenger\n",
    "<li>Gareth Jones\n",
    "<li>Gregor Simm\n",
    "<li>Guillaume Godin\n",
    "<li>JW Feng\n",
    "<li>Jan Halborg Jensen\n",
    "<li>Jason Biggs\n",
    "<li>Jeff van Santen\n",
    "<li>Jon Sorenson\n",
    "<li>Josh Meyers\n",
    "<li>José Emilio Sánchez Aparicio\n",
    "    </ul>\n",
    "    </td><td>\n",
    "    <ul>\n",
    "<li>Karl Leswing\n",
    "<li>Maciej Wójcikowski\n",
    "<li>Malitha Kabir\n",
    "<li>Martin Šícho\n",
    "<li>Matt Swain\n",
    "<li>Matthew O'Meara\n",
    "<li>Nadine Schneider\n",
    "<li>Nicola Zonta\n",
    "<li>Noel O'Boyle\n",
    "<li>Paolo Tosco\n",
    "<li>Patrick Avery\n",
    "<li>Paulo Tosco\n",
    "<li>Pavel Polishchuk\n",
    "<li>Peter Gedeck\n",
    "    </ul>\n",
    "    </td><td>\n",
    "    <ul>\n",
    "<li>Richard Hall\n",
    "<li>Rim Shayakhmetov\n",
    "<li>Roger Sayle\n",
    "<li>Sam Webb\n",
    "<li>Sereina Riniker\n",
    "<li>Stephen Roughley\n",
    "<li>Susan Leung\n",
    "<li>Thomas Blaschke\n",
    "<li>Thomas Heavy\n",
    "<li>Tuomo Kalliokoski\n",
    "    </ul>\n",
    "    </td></tr></table>"
   ]
  },
  {
   "cell_type": "markdown",
   "metadata": {
    "slideshow": {
     "slide_type": "slide"
    }
   },
   "source": [
    "## Big code changes\n",
    "\n",
    "### Modern C++ \n",
    "(Release 2018.03)\n",
    "\n",
    "Move to using C++14 (mostly) for the core. In addition to making developers' lives more pleasant, this has resulted in a nice performance boost and reduced memory requirements.\n",
    "\n",
    "As a little example of how much this changes things, here's what looping over atoms in the molecule used to require:\n",
    "```\n",
    "  ROMol::VERTEX_ITER this_at, end_at;\n",
    "  boost::tie(this_at, end_at) = mol.getVertices();\n",
    "  while (this_at != end_at) {\n",
    "    const Atom *atom = mol[*this_at].get();\n",
    "    ++this_at;\n",
    "    <do something with the atom>\n",
    "  }\n",
    "```\n",
    "and here's what it looks like now:\n",
    "```\n",
    "  for (const auto atom : mol.atoms()) {\n",
    "    <do something with the atom>\n",
    "  }\n",
    "```\n",
    "the improvement is hopefully obvious even if you don't know C++. :-)\n",
    "\n",
    "### Sensible defaults\n",
    "(Release 2018.03)\n",
    "\n",
    "We made a series of changes to the default values of arguments to RDKit functions in order to make using the toolkit less error prone.\n",
    "\n",
    "- `MolToSmiles()` now generates isomeric SMILES by default.\n",
    "- The embedding code now uses the ETKDG method by default. **Note** this is not yet true from Python.\n",
    "- `MolToMolBlock()` will now by default generate a set of 2D coordinates for\n",
    "  molecules when the includeStereo option is set to True. The changes are made\n",
    "  to a copy of the molecule; the molecule itself will not be modified.\n",
    "- The Mol file (and SDF) parser now determines atomic stereochemisty based on\n",
    "  the 3D coordinates provided (if 3D coordinates are provided).\n",
    "- The SMILES parser now supports CXSMILES by default (assuming that additional\n",
    "  text that looks like CXSMILES extensions is there).\n",
    "\n",
    "\n",
    "\n",
    "### Other backwards incompatible changes\n",
    "(Ongoing)\n",
    "\n",
    "We've started to gradually make other changes to the code that may be either backwards incompatible or may change the default results. These will be documented in a section of the release notes and are tagged with `Changes Results` in github.\n",
    "\n",
    "Here's an example from the (upcoming) 2019.09 release notes:\n",
    "```\n",
    "## Backwards incompatible changes\n",
    "This release includes a set of changes to make the default arguments to common\n",
    "functions less error prone (github #1679).\n",
    "- GetAtomSmiles() now generates isomeric SMILES by default.\n",
    "- The ringMatchesRingOnly option to the FindMCS() function now applies to\n",
    "  atom-atom matches as well as bond-bond matches. \n",
    "```\n",
    "\n",
    "### Move from epydoc to sphinx autodoc (affects documentation)\n",
    "(Release 2018.09)\n",
    "\n",
    "epydoc is no longer maintained and does not work with Python 3. Sphinx autodoc is under active development, integrates better with the rest of the RDKit documentation system, and looks better. Unfortunately some documentation needs to be reformatted in order to look good; this may take another release. *You* can help here!\n"
   ]
  },
  {
   "cell_type": "markdown",
   "metadata": {},
   "source": [
    "## New Features\n",
    "\n",
    " - [Coordgen integration](#Coordgen-integration)\n",
    " - [Bit visualization](#Fingerprint-bit-visualization)\n",
    " - [Molecular interchange format](#Molecular-interchange-format)\n",
    " - [3D Descriptors](#3D-Descriptors)\n",
    " - [SVGs with chemical metadata](#SVGs-with-chemical-metadata)\n",
    " \n",
    " \n",
    "Some for which the PR is still being reviewed:\n",
    "\n",
    " - Reading/writing extended stereochemistry from v3000 mol blocks\n",
    " - MolVS integration (GSoC project, more on this from Susan later)\n",
    " - Generalized fingerprinter (GSoC project, more on this from Boran later)\n",
    " \n",
    "Hopefully these will also make it into the 2019.09 release\n"
   ]
  },
  {
   "cell_type": "markdown",
   "metadata": {
    "collapsed": true
   },
   "source": [
    "## Coordgen integration \n",
    "(2018.03 release)\n",
    "\n",
    "This allows the coordgen library from Nicola Zonta (Schroedinger) to be used to generate 2D coordinates in the RDKit."
   ]
  },
  {
   "cell_type": "code",
   "execution_count": 1,
   "metadata": {},
   "outputs": [],
   "source": [
    "from rdkit import Chem\n",
    "from rdkit.Chem import rdDepictor\n",
    "from rdkit.Chem.Draw import IPythonConsole"
   ]
  },
  {
   "cell_type": "code",
   "execution_count": 2,
   "metadata": {},
   "outputs": [
    {
     "data": {
      "image/png": "[encoded data removed]",
      "text/plain": [
       "<rdkit.Chem.rdchem.Mol at 0x20ed6262bc0>"
      ]
     },
     "execution_count": 2,
     "metadata": {},
     "output_type": "execute_result"
    }
   ],
   "source": [
    "epinephrine = Chem.MolFromSmiles('CNC[C@H](O)c1ccc(O)c(O)c1')\n",
    "epinephrine"
   ]
  },
  {
   "cell_type": "code",
   "execution_count": 3,
   "metadata": {},
   "outputs": [
    {
     "data": {
      "image/png": "[encoded data removed]",
      "text/plain": [
       "<rdkit.Chem.rdchem.Mol at 0x20ed6262bc0>"
      ]
     },
     "execution_count": 3,
     "metadata": {},
     "output_type": "execute_result"
    }
   ],
   "source": [
    "rdDepictor.SetPreferCoordGen(True)\n",
    "rdDepictor.Compute2DCoords(epinephrine)\n",
    "epinephrine"
   ]
  },
  {
   "cell_type": "markdown",
   "metadata": {},
   "source": [
    "Something harder:"
   ]
  },
  {
   "cell_type": "code",
   "execution_count": 4,
   "metadata": {},
   "outputs": [
    {
     "data": {
      "image/png": "[encoded data removed]",
      "text/plain": [
       "<rdkit.Chem.rdchem.Mol at 0x20ed62737b0>"
      ]
     },
     "execution_count": 4,
     "metadata": {},
     "output_type": "execute_result"
    }
   ],
   "source": [
    "IPythonConsole.molSize = (350,300)\n",
    "emodepside = Chem.MolFromSmiles('CC(C)C[C@H]1C(=O)O[C@H](Cc2ccc(N3CCOCC3)cc2)C(=O)N(C)[C@@H](CC(C)C)C(=O)O[C@H](C)C(=O)N(C)[C@@H](CC(C)C)C(=O)O[C@H](Cc2ccc(N3CCOCC3)cc2)C(=O)N(C)[C@@H](CC(C)C)C(=O)O[C@H](C)C(=O)N1C')\n",
    "rdDepictor.SetPreferCoordGen(False)\n",
    "rdDepictor.Compute2DCoords(emodepside)\n",
    "emodepside"
   ]
  },
  {
   "cell_type": "code",
   "execution_count": 5,
   "metadata": {},
   "outputs": [
    {
     "data": {
      "image/png": "[encoded data removed]",
      "text/plain": [
       "<rdkit.Chem.rdchem.Mol at 0x20ed62737b0>"
      ]
     },
     "execution_count": 5,
     "metadata": {},
     "output_type": "execute_result"
    }
   ],
   "source": [
    "rdDepictor.SetPreferCoordGen(True)\n",
    "rdDepictor.Compute2DCoords(emodepside)\n",
    "emodepside"
   ]
  },
  {
   "cell_type": "markdown",
   "metadata": {},
   "source": [
    "## Fingerprint bit visualization \n",
    "(2018.09 release)\n",
    "\n",
    "Nadine Schneider's fingerprint bit visualization code from [CheTo](https://github.com/rdkit/CheTo) has been adapted and added to the RDKit core.\n",
    "\n",
    "*Note*: At the moment this code is still in Python. It will be ported to C++ in a future release to allow it to be used more broadly."
   ]
  },
  {
   "cell_type": "code",
   "execution_count": 49,
   "metadata": {},
   "outputs": [
    {
     "data": {
      "image/png": "[encoded data removed]",
      "text/plain": [
       "<rdkit.Chem.rdchem.Mol at 0x29c2bbc57b0>"
      ]
     },
     "execution_count": 49,
     "metadata": {},
     "output_type": "execute_result"
    }
   ],
   "source": [
    "from rdkit import Chem\n",
    "from rdkit.Chem import rdMolDescriptors\n",
    "from rdkit.Chem.Draw import IPythonConsole\n",
    "from rdkit.Chem import Draw\n",
    "epinephrine = Chem.MolFromSmiles('CNC[C@H](O)c1ccc(O)c(O)c1')\n",
    "epinephrine"
   ]
  },
  {
   "cell_type": "code",
   "execution_count": 50,
   "metadata": {},
   "outputs": [
    {
     "data": {
      "text/plain": [
       "[1, 80, 227, 315, 589, 606, 632, 807, 875, 1057]"
      ]
     },
     "execution_count": 50,
     "metadata": {},
     "output_type": "execute_result"
    }
   ],
   "source": [
    "bi = {}\n",
    "fp = rdMolDescriptors.GetMorganFingerprintAsBitVect(epinephrine, radius=2, bitInfo=bi)\n",
    "list(fp.GetOnBits())[:10]"
   ]
  },
  {
   "cell_type": "code",
   "execution_count": 51,
   "metadata": {},
   "outputs": [
    {
     "data": {
      "image/png": "[encoded data removed]",
      "text/plain": [
       "<PIL.PngImagePlugin.PngImageFile image mode=RGB size=150x150 at 0x29C2BBC7CC0>"
      ]
     },
     "execution_count": 51,
     "metadata": {},
     "output_type": "execute_result"
    }
   ],
   "source": [
    "Draw.DrawMorganBit(epinephrine,589,bi)"
   ]
  },
  {
   "cell_type": "code",
   "execution_count": 36,
   "metadata": {},
   "outputs": [
    {
     "data": {
      "image/png": "[encoded data removed]",
      "text/plain": [
       "<PIL.PngImagePlugin.PngImageFile image mode=RGB size=150x150 at 0x29C2BCB1278>"
      ]
     },
     "execution_count": 36,
     "metadata": {},
     "output_type": "execute_result"
    }
   ],
   "source": [
    "Draw.DrawMorganBit(epinephrine,80,bi)"
   ]
  },
  {
   "cell_type": "code",
   "execution_count": 37,
   "metadata": {},
   "outputs": [
    {
     "data": {
      "image/png": "[encoded data removed]",
      "text/plain": [
       "<PIL.PngImagePlugin.PngImageFile image mode=RGB size=150x150 at 0x29C2BBFCFD0>"
      ]
     },
     "execution_count": 37,
     "metadata": {},
     "output_type": "execute_result"
    }
   ],
   "source": [
    "Draw.DrawMorganBit(epinephrine,589,bi,aromaticColor=None,ringColor=None,extraColor=(.6,.6,.9),centerColor=(.9,.6,.6))"
   ]
  },
  {
   "cell_type": "code",
   "execution_count": 38,
   "metadata": {},
   "outputs": [
    {
     "data": {
      "image/png": "[encoded data removed]",
      "text/plain": [
       "<PIL.PngImagePlugin.PngImageFile image mode=RGB size=150x150 at 0x29C2BBFCDA0>"
      ]
     },
     "execution_count": 38,
     "metadata": {},
     "output_type": "execute_result"
    }
   ],
   "source": [
    "Draw.DrawMorganBit(epinephrine,589,bi,aromaticColor=None,ringColor=None,extraColor=(.6,.6,.9),centerColor=(.9,.6,.6),baseRad=0.6)"
   ]
  },
  {
   "cell_type": "code",
   "execution_count": 39,
   "metadata": {},
   "outputs": [
    {
     "data": {
      "text/plain": [
       "[93, 103, 112, 122, 148, 149, 161, 166, 194, 208]"
      ]
     },
     "execution_count": 39,
     "metadata": {},
     "output_type": "execute_result"
    }
   ],
   "source": [
    "rdkbi = {}\n",
    "rdkfp = Chem.RDKFingerprint(epinephrine, maxPath=5, bitInfo=rdkbi)\n",
    "list(rdkfp.GetOnBits())[:10]"
   ]
  },
  {
   "cell_type": "code",
   "execution_count": 40,
   "metadata": {},
   "outputs": [
    {
     "data": {
      "image/png": "[encoded data removed]",
      "text/plain": [
       "<PIL.PngImagePlugin.PngImageFile image mode=RGB size=150x150 at 0x29C2B958C18>"
      ]
     },
     "execution_count": 40,
     "metadata": {},
     "output_type": "execute_result"
    }
   ],
   "source": [
    "Draw.DrawRDKitBit(epinephrine,166,rdkbi)"
   ]
  },
  {
   "cell_type": "code",
   "execution_count": 41,
   "metadata": {},
   "outputs": [
    {
     "data": {
      "image/png": "[encoded data removed]",
      "text/plain": [
       "<PIL.PngImagePlugin.PngImageFile image mode=RGB size=150x150 at 0x29C2BBFCE80>"
      ]
     },
     "execution_count": 41,
     "metadata": {},
     "output_type": "execute_result"
    }
   ],
   "source": [
    "Draw.DrawRDKitBit(epinephrine,222,rdkbi)"
   ]
  },
  {
   "cell_type": "code",
   "execution_count": 42,
   "metadata": {},
   "outputs": [
    {
     "data": {
      "image/png": "[encoded data removed]",
      "text/plain": [
       "<PIL.PngImagePlugin.PngImageFile image mode=RGB size=150x150 at 0x29C2BBFC9B0>"
      ]
     },
     "execution_count": 42,
     "metadata": {},
     "output_type": "execute_result"
    }
   ],
   "source": [
    "Draw.DrawRDKitBit(epinephrine,222,rdkbi,aromaticColor=(.9,.6,.6),nonAromaticColor=(.6,.6,.9))"
   ]
  },
  {
   "cell_type": "code",
   "execution_count": 43,
   "metadata": {},
   "outputs": [
    {
     "data": {
      "image/png": "[encoded data removed]",
      "text/plain": [
       "<PIL.PngImagePlugin.PngImageFile image mode=RGB size=150x150 at 0x29C2BBFC5F8>"
      ]
     },
     "execution_count": 43,
     "metadata": {},
     "output_type": "execute_result"
    }
   ],
   "source": [
    "Draw.DrawRDKitBit(epinephrine,222,rdkbi,aromaticColor=(.9,.6,.6),nonAromaticColor=(.6,.6,.9),baseRad=.5)"
   ]
  },
  {
   "cell_type": "code",
   "execution_count": 52,
   "metadata": {},
   "outputs": [],
   "source": [
    "from ipywidgets import interact,fixed,IntSlider\n",
    "def renderFpBit(mol,bitIdx,bitInfo,fn):\n",
    "    bid = bitIdx\n",
    "    return(display(fn(mol,bid,bitInfo)))\n"
   ]
  },
  {
   "cell_type": "code",
   "execution_count": 53,
   "metadata": {},
   "outputs": [
    {
     "data": {
      "application/vnd.jupyter.widget-view+json": {
       "model_id": "946e60cc05414f32afd272aed96abbf2",
       "version_major": 2,
       "version_minor": 0
      },
      "text/html": [
       "<p>Failed to display Jupyter Widget of type <code>interactive</code>.</p>\n",
       "<p>\n",
       "  If you're reading this message in the Jupyter Notebook or JupyterLab Notebook, it may mean\n",
       "  that the widgets JavaScript is still loading. If this message persists, it\n",
       "  likely means that the widgets JavaScript library is either not installed or\n",
       "  not enabled. See the <a href=\"https://ipywidgets.readthedocs.io/en/stable/user_install.html\">Jupyter\n",
       "  Widgets Documentation</a> for setup instructions.\n",
       "</p>\n",
       "<p>\n",
       "  If you're reading this message in another frontend (for example, a static\n",
       "  rendering on GitHub or <a href=\"https://nbviewer.jupyter.org/\">NBViewer</a>),\n",
       "  it may mean that your frontend doesn't currently support widgets.\n",
       "</p>\n"
      ],
      "text/plain": [
       "interactive(children=(Dropdown(description='bitIdx', options=(1, 80, 227, 315, 589, 606, 632, 807, 875, 1057, 1152, 1362, 1365, 1367, 1380, 1430, 1434, 1475, 1602, 1607, 1750, 1784, 1853, 1868, 1873, 1995), value=1), Output()), _dom_classes=('widget-interact',))"
      ]
     },
     "metadata": {},
     "output_type": "display_data"
    }
   ],
   "source": [
    "interact(renderFpBit, bitIdx=list(bi.keys()),mol=fixed(epinephrine),bitInfo=fixed(bi),fn=fixed(Draw.DrawMorganBit));"
   ]
  },
  {
   "cell_type": "code",
   "execution_count": 46,
   "metadata": {},
   "outputs": [
    {
     "data": {
      "application/vnd.jupyter.widget-view+json": {
       "model_id": "5b216dc67fa84b1296f62ff4aadbef40",
       "version_major": 2,
       "version_minor": 0
      },
      "text/html": [
       "<p>Failed to display Jupyter Widget of type <code>interactive</code>.</p>\n",
       "<p>\n",
       "  If you're reading this message in the Jupyter Notebook or JupyterLab Notebook, it may mean\n",
       "  that the widgets JavaScript is still loading. If this message persists, it\n",
       "  likely means that the widgets JavaScript library is either not installed or\n",
       "  not enabled. See the <a href=\"https://ipywidgets.readthedocs.io/en/stable/user_install.html\">Jupyter\n",
       "  Widgets Documentation</a> for setup instructions.\n",
       "</p>\n",
       "<p>\n",
       "  If you're reading this message in another frontend (for example, a static\n",
       "  rendering on GitHub or <a href=\"https://nbviewer.jupyter.org/\">NBViewer</a>),\n",
       "  it may mean that your frontend doesn't currently support widgets.\n",
       "</p>\n"
      ],
      "text/plain": [
       "interactive(children=(Dropdown(description='bitIdx', options=(103, 148, 166, 222, 277, 313, 330, 353, 397, 412, 441, 461, 471, 508, 525, 562, 587, 588, 608, 648, 661, 670, 704, 728, 767, 792, 824, 825, 826, 849, 854, 886, 921, 930, 1026, 1064, 1166, 1183, 1224, 1251, 1261, 1342, 1370, 1371, 1379, 1423, 1448, 1456, 1501, 1513, 1553, 1577, 1646, 1649, 1688, 1772, 1780, 1784, 1816, 1909, 1941, 1982, 1996, 2021, 2025, 2026, 2047), value=103), Output()), _dom_classes=('widget-interact',))"
      ]
     },
     "metadata": {},
     "output_type": "display_data"
    }
   ],
   "source": [
    "interact(renderFpBit, bitIdx=list(rdkbi.keys()),mol=fixed(epinephrine),bitInfo=fixed(rdkbi),fn=fixed(Draw.DrawRDKitBit));"
   ]
  },
  {
   "cell_type": "markdown",
   "metadata": {},
   "source": [
    "## Molecular interchange format\n",
    "(2018.03 release)\n",
    "\n",
    "A JSON-based format derived from [CommonChem](https://github.com/CommonChem/CommonChem) for exchanging information about molecules between software packages."
   ]
  },
  {
   "cell_type": "code",
   "execution_count": 3,
   "metadata": {},
   "outputs": [],
   "source": [
    "from rdkit import Chem\n",
    "from rdkit.Chem.Draw import IPythonConsole\n",
    "from rdkit.Chem import rdMolInterchange\n",
    "import json"
   ]
  },
  {
   "cell_type": "code",
   "execution_count": 4,
   "metadata": {},
   "outputs": [
    {
     "data": {
      "image/png": "[encoded data removed]",
      "text/plain": [
       "<rdkit.Chem.rdchem.Mol at 0x29c2b9f7a80>"
      ]
     },
     "execution_count": 4,
     "metadata": {},
     "output_type": "execute_result"
    }
   ],
   "source": [
    "doravirine = Chem.MolFromSmiles('Cn1c(n[nH]c1=O)Cn2ccc(c(c2=O)Oc3cc(cc(c3)Cl)C#N)C(F)(F)F')\n",
    "doravirine"
   ]
  },
  {
   "cell_type": "code",
   "execution_count": 5,
   "metadata": {},
   "outputs": [
    {
     "name": "stdout",
     "output_type": "stream",
     "text": [
      "{\n",
      "    \"commonchem\": {\n",
      "        \"version\": 10\n",
      "    },\n",
      "    \"defaults\": {\n",
      "        \"atom\": {\n",
      "            \"z\": 6,\n",
      "            \"impHs\": 0,\n",
      "            \"chg\": 0,\n",
      "            \"nRad\": 0,\n",
      "            \"isotope\": 0,\n",
      "            \"stereo\": \"unspecified\"\n",
      "        },\n",
      "        \"bond\": {\n",
      "            \"bo\": 1,\n",
      "            \"stereo\": \"unspecified\"\n",
      "        }\n",
      "    },\n",
      "    \"molecules\": [\n",
      "        {\n",
      "            \"atoms\": [\n",
      "                {\n",
      "                    \"impHs\": 3\n",
      "                },\n",
      "                {\n",
      "                    \"z\": 7\n",
      "                },\n",
      "                {},\n",
      "                {\n",
      "                    \"z\": 7\n",
      "                },\n",
      "                {\n",
      "                    \"z\": 7,\n",
      "                    \"impHs\": 1\n",
      "                },\n",
      "                {},\n",
      "                {\n",
      "                    \"z\": 8\n",
      "                },\n",
      "                {\n",
      "                    \"impHs\": 2\n",
      "                },\n",
      "                {\n",
      "                    \"z\": 7\n",
      "                },\n",
      "                {\n",
      "                    \"impHs\": 1\n",
      "                },\n",
      "                {\n",
      "                    \"impHs\": 1\n",
      "                },\n",
      "                {},\n",
      "                {},\n",
      "                {},\n",
      "                {\n",
      "                    \"z\": 8\n",
      "                },\n",
      "                {\n",
      "                    \"z\": 8\n",
      "                },\n",
      "                {},\n",
      "                {\n",
      "                    \"impHs\": 1\n",
      "                },\n",
      "                {},\n",
      "                {\n",
      "                    \"impHs\": 1\n",
      "                },\n",
      "                {},\n",
      "                {\n",
      "                    \"impHs\": 1\n",
      "                },\n",
      "                {\n",
      "                    \"z\": 17\n",
      "                },\n",
      "                {},\n",
      "                {\n",
      "                    \"z\": 7\n",
      "                },\n",
      "                {},\n",
      "                {\n",
      "                    \"z\": 9\n",
      "                },\n",
      "                {\n",
      "                    \"z\": 9\n",
      "                },\n",
      "                {\n",
      "                    \"z\": 9\n",
      "                }\n",
      "            ],\n",
      "            \"bonds\": [\n",
      "                {\n",
      "                    \"atoms\": [\n",
      "                        0,\n",
      "                        1\n",
      "                    ]\n",
      "                },\n",
      "                {\n",
      "                    \"atoms\": [\n",
      "                        1,\n",
      "                        2\n",
      "                    ]\n",
      "                },\n",
      "                {\n",
      "                    \"bo\": 2,\n",
      "                    \"atoms\": [\n",
      "                        2,\n",
      "                        3\n",
      "                    ]\n",
      "                },\n",
      "                {\n",
      "                    \"atoms\": [\n",
      "                        3,\n",
      "                        4\n",
      "                    ]\n",
      "                },\n",
      "                {\n",
      "                    \"atoms\": [\n",
      "                        4,\n",
      "                        5\n",
      "                    ]\n",
      "                },\n",
      "                {\n",
      "                    \"bo\": 2,\n",
      "                    \"atoms\": [\n",
      "                        5,\n",
      "                        6\n",
      "                    ]\n",
      "                },\n",
      "                {\n",
      "                    \"atoms\": [\n",
      "                        2,\n",
      "                        7\n",
      "                    ]\n",
      "                },\n",
      "                {\n",
      "                    \"atoms\": [\n",
      "                        7,\n",
      "                        8\n",
      "                    ]\n",
      "                },\n",
      "                {\n",
      "                    \"atoms\": [\n",
      "                        8,\n",
      "                        9\n",
      "                    ]\n",
      "                },\n",
      "                {\n",
      "                    \"bo\": 2,\n",
      "                    \"atoms\": [\n",
      "                        9,\n",
      "                        10\n",
      "                    ]\n",
      "                },\n",
      "                {\n",
      "                    \"atoms\": [\n",
      "                        10,\n",
      "                        11\n",
      "                    ]\n",
      "                },\n",
      "                {\n",
      "                    \"bo\": 2,\n",
      "                    \"atoms\": [\n",
      "                        11,\n",
      "                        12\n",
      "                    ]\n",
      "                },\n",
      "                {\n",
      "                    \"atoms\": [\n",
      "                        12,\n",
      "                        13\n",
      "                    ]\n",
      "                },\n",
      "                {\n",
      "                    \"bo\": 2,\n",
      "                    \"atoms\": [\n",
      "                        13,\n",
      "                        14\n",
      "                    ]\n",
      "                },\n",
      "                {\n",
      "                    \"atoms\": [\n",
      "                        12,\n",
      "                        15\n",
      "                    ]\n",
      "                },\n",
      "                {\n",
      "                    \"atoms\": [\n",
      "                        15,\n",
      "                        16\n",
      "                    ]\n",
      "                },\n",
      "                {\n",
      "                    \"bo\": 2,\n",
      "                    \"atoms\": [\n",
      "                        16,\n",
      "                        17\n",
      "                    ]\n",
      "                },\n",
      "                {\n",
      "                    \"atoms\": [\n",
      "                        17,\n",
      "                        18\n",
      "                    ]\n",
      "                },\n",
      "                {\n",
      "                    \"bo\": 2,\n",
      "                    \"atoms\": [\n",
      "                        18,\n",
      "                        19\n",
      "                    ]\n",
      "                },\n",
      "                {\n",
      "                    \"atoms\": [\n",
      "                        19,\n",
      "                        20\n",
      "                    ]\n",
      "                },\n",
      "                {\n",
      "                    \"bo\": 2,\n",
      "                    \"atoms\": [\n",
      "                        20,\n",
      "                        21\n",
      "                    ]\n",
      "                },\n",
      "                {\n",
      "                    \"atoms\": [\n",
      "                        20,\n",
      "                        22\n",
      "                    ]\n",
      "                },\n",
      "                {\n",
      "                    \"atoms\": [\n",
      "                        18,\n",
      "                        23\n",
      "                    ]\n",
      "                },\n",
      "                {\n",
      "                    \"bo\": 3,\n",
      "                    \"atoms\": [\n",
      "                        23,\n",
      "                        24\n",
      "                    ]\n",
      "                },\n",
      "                {\n",
      "                    \"atoms\": [\n",
      "                        11,\n",
      "                        25\n",
      "                    ]\n",
      "                },\n",
      "                {\n",
      "                    \"atoms\": [\n",
      "                        25,\n",
      "                        26\n",
      "                    ]\n",
      "                },\n",
      "                {\n",
      "                    \"atoms\": [\n",
      "                        25,\n",
      "                        27\n",
      "                    ]\n",
      "                },\n",
      "                {\n",
      "                    \"atoms\": [\n",
      "                        25,\n",
      "                        28\n",
      "                    ]\n",
      "                },\n",
      "                {\n",
      "                    \"atoms\": [\n",
      "                        5,\n",
      "                        1\n",
      "                    ]\n",
      "                },\n",
      "                {\n",
      "                    \"atoms\": [\n",
      "                        13,\n",
      "                        8\n",
      "                    ]\n",
      "                },\n",
      "                {\n",
      "                    \"atoms\": [\n",
      "                        21,\n",
      "                        16\n",
      "                    ]\n",
      "                }\n",
      "            ],\n",
      "            \"extensions\": [\n",
      "                {\n",
      "                    \"name\": \"rdkitRepresentation\",\n",
      "                    \"formatVersion\": 1,\n",
      "                    \"toolkitVersion\": \"2018.09.1dev1\",\n",
      "                    \"aromaticAtoms\": [\n",
      "                        1,\n",
      "                        2,\n",
      "                        3,\n",
      "                        4,\n",
      "                        5,\n",
      "                        8,\n",
      "                        9,\n",
      "                        10,\n",
      "                        11,\n",
      "                        12,\n",
      "                        13,\n",
      "                        16,\n",
      "                        17,\n",
      "                        18,\n",
      "                        19,\n",
      "                        20,\n",
      "                        21\n",
      "                    ],\n",
      "                    \"aromaticBonds\": [\n",
      "                        1,\n",
      "                        2,\n",
      "                        3,\n",
      "                        4,\n",
      "                        8,\n",
      "                        9,\n",
      "                        10,\n",
      "                        11,\n",
      "                        12,\n",
      "                        16,\n",
      "                        17,\n",
      "                        18,\n",
      "                        19,\n",
      "                        20,\n",
      "                        28,\n",
      "                        29,\n",
      "                        30\n",
      "                    ],\n",
      "                    \"cipRanks\": [\n",
      "                        6,\n",
      "                        19,\n",
      "                        10,\n",
      "                        20,\n",
      "                        21,\n",
      "                        14,\n",
      "                        24,\n",
      "                        7,\n",
      "                        18,\n",
      "                        8,\n",
      "                        0,\n",
      "                        5,\n",
      "                        12,\n",
      "                        13,\n",
      "                        23,\n",
      "                        22,\n",
      "                        11,\n",
      "                        1,\n",
      "                        4,\n",
      "                        2,\n",
      "                        16,\n",
      "                        3,\n",
      "                        26,\n",
      "                        9,\n",
      "                        17,\n",
      "                        15,\n",
      "                        25,\n",
      "                        25,\n",
      "                        25\n",
      "                    ],\n",
      "                    \"atomRings\": [\n",
      "                        [\n",
      "                            1,\n",
      "                            2,\n",
      "                            3,\n",
      "                            4,\n",
      "                            5\n",
      "                        ],\n",
      "                        [\n",
      "                            9,\n",
      "                            10,\n",
      "                            11,\n",
      "                            12,\n",
      "                            13,\n",
      "                            8\n",
      "                        ],\n",
      "                        [\n",
      "                            17,\n",
      "                            18,\n",
      "                            19,\n",
      "                            20,\n",
      "                            21,\n",
      "                            16\n",
      "                        ]\n",
      "                    ]\n",
      "                }\n",
      "            ]\n",
      "        }\n",
      "    ]\n",
      "}\n"
     ]
    }
   ],
   "source": [
    "mjson = rdMolInterchange.MolToJSON(doravirine)\n",
    "print(json.dumps(json.loads(mjson),indent=4))"
   ]
  },
  {
   "cell_type": "code",
   "execution_count": 8,
   "metadata": {},
   "outputs": [
    {
     "data": {
      "image/png": "[encoded data removed]",
      "text/plain": [
       "<rdkit.Chem.rdchem.Mol at 0x29c2b9e1df0>"
      ]
     },
     "execution_count": 8,
     "metadata": {},
     "output_type": "execute_result"
    }
   ],
   "source": [
    "nmol = rdMolInterchange.JSONToMols(mjson)[0]\n",
    "nmol"
   ]
  },
  {
   "cell_type": "code",
   "execution_count": 9,
   "metadata": {},
   "outputs": [
    {
     "data": {
      "text/plain": [
       "True"
      ]
     },
     "execution_count": 9,
     "metadata": {},
     "output_type": "execute_result"
    }
   ],
   "source": [
    "Chem.MolToSmiles(nmol)==Chem.MolToSmiles(doravirine)"
   ]
  },
  {
   "cell_type": "markdown",
   "metadata": {},
   "source": [
    "## 3D Descriptors \n",
    "(2017.09 release)"
   ]
  },
  {
   "cell_type": "code",
   "execution_count": 54,
   "metadata": {},
   "outputs": [],
   "source": [
    "from rdkit import Chem\n",
    "from rdkit.Chem.Draw import IPythonConsole\n",
    "from rdkit.Chem import rdMolDescriptors\n",
    "from rdkit.Chem import AllChem\n",
    "from rdkit.Chem import Descriptors3D"
   ]
  },
  {
   "cell_type": "code",
   "execution_count": 55,
   "metadata": {},
   "outputs": [
    {
     "data": {
      "application/3dmoljs_load.v0": "<div id=\"3dmolviewer_15373472986920238\"  style=\"position: relative; width: 400px; height: 400px\">\n        <p id=\"3dmolwarning_15373472986920238\" style=\"background-color:#ffcccc;color:black\">You appear to be running in JupyterLab (or JavaScript failed to load for some other reason).  You need to install the 3dmol extension: <br>\n        <tt>jupyter labextension install jupyterlab_3dmol</tt></p>\n        </div>\n<script>\n\nvar loadScriptAsync = function(uri){\n  return new Promise((resolve, reject) => {\n    var tag = document.createElement('script');\n    tag.src = uri;\n    tag.async = true;\n    tag.onload = () => {\n      resolve();\n    };\n  var firstScriptTag = document.getElementsByTagName('script')[0];\n  firstScriptTag.parentNode.insertBefore(tag, firstScriptTag);\n});\n};\n\nif(typeof $3Dmolpromise === 'undefined') {\n$3Dmolpromise = null;\n  $3Dmolpromise = loadScriptAsync('https://3dmol.csb.pitt.edu/build/3Dmol.js');\n}\n\nvar viewer_15373472986920238 = null;\nvar warn = document.getElementById(\"3dmolwarning_15373472986920238\");\nif(warn) {\n    warn.parentNode.removeChild(warn);\n}\n$3Dmolpromise.then(function() {\nviewer_15373472986920238 = $3Dmol.createViewer($(\"#3dmolviewer_15373472986920238\"),{backgroundColor:\"white\"});\n\tviewer_15373472986920238.removeAllModels();\n\tviewer_15373472986920238.addModel(\"\\n     RDKit          3D\\n\\n 40 42  0  0  0  0  0  0  0  0999 V2000\\n   -3.4187   -2.1994   -0.5869 C   0  0  0  0  0  0  0  0  0  0  0  0\\n   -3.6299   -0.8080   -0.9213 N   0  0  0  0  0  0  0  0  0  0  0  0\\n   -3.4682    0.3199   -0.2348 C   0  0  0  0  0  0  0  0  0  0  0  0\\n   -3.8393    1.3257   -1.0488 N   0  0  0  0  0  0  0  0  0  0  0  0\\n   -4.2262    0.8523   -2.2215 N   0  0  0  0  0  0  0  0  0  0  0  0\\n   -4.1005   -0.4702   -2.1544 C   0  0  0  0  0  0  0  0  0  0  0  0\\n   -4.3895   -1.2350   -3.1184 O   0  0  0  0  0  0  0  0  0  0  0  0\\n   -2.9763    0.4715    1.1185 C   0  0  0  0  0  0  0  0  0  0  0  0\\n   -1.6446    1.0049    1.2688 N   0  0  0  0  0  0  0  0  0  0  0  0\\n   -1.4444    2.3583    1.3192 C   0  0  0  0  0  0  0  0  0  0  0  0\\n   -0.2081    2.9356    1.4486 C   0  0  0  0  0  0  0  0  0  0  0  0\\n    0.9449    2.1419    1.5383 C   0  0  0  0  0  0  0  0  0  0  0  0\\n    0.7454    0.7883    1.4875 C   0  0  0  0  0  0  0  0  0  0  0  0\\n   -0.5498    0.2520    1.3540 C   0  0  0  0  0  0  0  0  0  0  0  0\\n   -0.6592   -1.0182    1.3162 O   0  0  0  0  0  0  0  0  0  0  0  0\\n    1.8153   -0.0564    1.5648 O   0  0  0  0  0  0  0  0  0  0  0  0\\n    2.5030   -0.6752    0.5679 C   0  0  0  0  0  0  0  0  0  0  0  0\\n    3.6305   -1.4116    0.9371 C   0  0  0  0  0  0  0  0  0  0  0  0\\n    4.3988   -2.0800    0.0065 C   0  0  0  0  0  0  0  0  0  0  0  0\\n    4.0782   -2.0447   -1.3344 C   0  0  0  0  0  0  0  0  0  0  0  0\\n    2.9672   -1.3231   -1.7269 C   0  0  0  0  0  0  0  0  0  0  0  0\\n    2.2132   -0.6624   -0.7794 C   0  0  0  0  0  0  0  0  0  0  0  0\\n    2.5811   -1.2932   -3.4308 Cl  0  0  0  0  0  0  0  0  0  0  0  0\\n    5.5663   -2.8370    0.4279 C   0  0  0  0  0  0  0  0  0  0  0  0\\n    6.4950   -3.4310    0.7805 N   0  0  0  0  0  0  0  0  0  0  0  0\\n    2.2626    2.8070    1.6976 C   0  0  0  0  0  0  0  0  0  0  0  0\\n    2.0954    4.2022    1.7236 F   0  0  0  0  0  0  0  0  0  0  0  0\\n    3.1910    2.4547    0.7481 F   0  0  0  0  0  0  0  0  0  0  0  0\\n    2.8383    2.5037    2.9386 F   0  0  0  0  0  0  0  0  0  0  0  0\\n   -2.4207   -2.5479   -0.9212 H   0  0  0  0  0  0  0  0  0  0  0  0\\n   -4.1713   -2.8408   -1.0615 H   0  0  0  0  0  0  0  0  0  0  0  0\\n   -3.5227   -2.3720    0.5226 H   0  0  0  0  0  0  0  0  0  0  0  0\\n   -4.5539    1.4621   -2.9998 H   0  0  0  0  0  0  0  0  0  0  0  0\\n   -2.9693   -0.5032    1.6938 H   0  0  0  0  0  0  0  0  0  0  0  0\\n   -3.7178    1.0935    1.7041 H   0  0  0  0  0  0  0  0  0  0  0  0\\n   -2.3258    2.9736    1.2509 H   0  0  0  0  0  0  0  0  0  0  0  0\\n   -0.0606    4.0098    1.4876 H   0  0  0  0  0  0  0  0  0  0  0  0\\n    3.9165   -1.4660    1.9708 H   0  0  0  0  0  0  0  0  0  0  0  0\\n    4.7110   -2.5853   -2.0304 H   0  0  0  0  0  0  0  0  0  0  0  0\\n    1.3431   -0.0963   -1.0803 H   0  0  0  0  0  0  0  0  0  0  0  0\\n  1  2  1  0\\n  2  3  1  0\\n  3  4  2  0\\n  4  5  1  0\\n  5  6  1  0\\n  6  7  2  0\\n  3  8  1  0\\n  8  9  1  0\\n  9 10  1  0\\n 10 11  2  0\\n 11 12  1  0\\n 12 13  2  0\\n 13 14  1  0\\n 14 15  2  0\\n 13 16  1  0\\n 16 17  1  0\\n 17 18  2  0\\n 18 19  1  0\\n 19 20  2  0\\n 20 21  1  0\\n 21 22  2  0\\n 21 23  1  0\\n 19 24  1  0\\n 24 25  3  0\\n 12 26  1  0\\n 26 27  1  0\\n 26 28  1  0\\n 26 29  1  0\\n  6  2  1  0\\n 14  9  1  0\\n 22 17  1  0\\n  1 30  1  0\\n  1 31  1  0\\n  1 32  1  0\\n  5 33  1  0\\n  8 34  1  0\\n  8 35  1  0\\n 10 36  1  0\\n 11 37  1  0\\n 18 38  1  0\\n 20 39  1  0\\n 22 40  1  0\\nM  END\\n\",\"sdf\");\n\tviewer_15373472986920238.setStyle({\"stick\": {}});\n\tviewer_15373472986920238.setBackgroundColor(\"0xeeeeee\");\n\tviewer_15373472986920238.zoomTo();\nviewer_15373472986920238.render();\n});\n</script>",
      "text/html": [
       "<div id=\"3dmolviewer_15373472986920238\"  style=\"position: relative; width: 400px; height: 400px\">\n",
       "        <p id=\"3dmolwarning_15373472986920238\" style=\"background-color:#ffcccc;color:black\">You appear to be running in JupyterLab (or JavaScript failed to load for some other reason).  You need to install the 3dmol extension: <br>\n",
       "        <tt>jupyter labextension install jupyterlab_3dmol</tt></p>\n",
       "        </div>\n",
       "<script>\n",
       "\n",
       "var loadScriptAsync = function(uri){\n",
       "  return new Promise((resolve, reject) => {\n",
       "    var tag = document.createElement('script');\n",
       "    tag.src = uri;\n",
       "    tag.async = true;\n",
       "    tag.onload = () => {\n",
       "      resolve();\n",
       "    };\n",
       "  var firstScriptTag = document.getElementsByTagName('script')[0];\n",
       "  firstScriptTag.parentNode.insertBefore(tag, firstScriptTag);\n",
       "});\n",
       "};\n",
       "\n",
       "if(typeof $3Dmolpromise === 'undefined') {\n",
       "$3Dmolpromise = null;\n",
       "  $3Dmolpromise = loadScriptAsync('https://3dmol.csb.pitt.edu/build/3Dmol.js');\n",
       "}\n",
       "\n",
       "var viewer_15373472986920238 = null;\n",
       "var warn = document.getElementById(\"3dmolwarning_15373472986920238\");\n",
       "if(warn) {\n",
       "    warn.parentNode.removeChild(warn);\n",
       "}\n",
       "$3Dmolpromise.then(function() {\n",
       "viewer_15373472986920238 = $3Dmol.createViewer($(\"#3dmolviewer_15373472986920238\"),{backgroundColor:\"white\"});\n",
       "\tviewer_15373472986920238.removeAllModels();\n",
       "\tviewer_15373472986920238.addModel(\"\\n     RDKit          3D\\n\\n 40 42  0  0  0  0  0  0  0  0999 V2000\\n   -3.4187   -2.1994   -0.5869 C   0  0  0  0  0  0  0  0  0  0  0  0\\n   -3.6299   -0.8080   -0.9213 N   0  0  0  0  0  0  0  0  0  0  0  0\\n   -3.4682    0.3199   -0.2348 C   0  0  0  0  0  0  0  0  0  0  0  0\\n   -3.8393    1.3257   -1.0488 N   0  0  0  0  0  0  0  0  0  0  0  0\\n   -4.2262    0.8523   -2.2215 N   0  0  0  0  0  0  0  0  0  0  0  0\\n   -4.1005   -0.4702   -2.1544 C   0  0  0  0  0  0  0  0  0  0  0  0\\n   -4.3895   -1.2350   -3.1184 O   0  0  0  0  0  0  0  0  0  0  0  0\\n   -2.9763    0.4715    1.1185 C   0  0  0  0  0  0  0  0  0  0  0  0\\n   -1.6446    1.0049    1.2688 N   0  0  0  0  0  0  0  0  0  0  0  0\\n   -1.4444    2.3583    1.3192 C   0  0  0  0  0  0  0  0  0  0  0  0\\n   -0.2081    2.9356    1.4486 C   0  0  0  0  0  0  0  0  0  0  0  0\\n    0.9449    2.1419    1.5383 C   0  0  0  0  0  0  0  0  0  0  0  0\\n    0.7454    0.7883    1.4875 C   0  0  0  0  0  0  0  0  0  0  0  0\\n   -0.5498    0.2520    1.3540 C   0  0  0  0  0  0  0  0  0  0  0  0\\n   -0.6592   -1.0182    1.3162 O   0  0  0  0  0  0  0  0  0  0  0  0\\n    1.8153   -0.0564    1.5648 O   0  0  0  0  0  0  0  0  0  0  0  0\\n    2.5030   -0.6752    0.5679 C   0  0  0  0  0  0  0  0  0  0  0  0\\n    3.6305   -1.4116    0.9371 C   0  0  0  0  0  0  0  0  0  0  0  0\\n    4.3988   -2.0800    0.0065 C   0  0  0  0  0  0  0  0  0  0  0  0\\n    4.0782   -2.0447   -1.3344 C   0  0  0  0  0  0  0  0  0  0  0  0\\n    2.9672   -1.3231   -1.7269 C   0  0  0  0  0  0  0  0  0  0  0  0\\n    2.2132   -0.6624   -0.7794 C   0  0  0  0  0  0  0  0  0  0  0  0\\n    2.5811   -1.2932   -3.4308 Cl  0  0  0  0  0  0  0  0  0  0  0  0\\n    5.5663   -2.8370    0.4279 C   0  0  0  0  0  0  0  0  0  0  0  0\\n    6.4950   -3.4310    0.7805 N   0  0  0  0  0  0  0  0  0  0  0  0\\n    2.2626    2.8070    1.6976 C   0  0  0  0  0  0  0  0  0  0  0  0\\n    2.0954    4.2022    1.7236 F   0  0  0  0  0  0  0  0  0  0  0  0\\n    3.1910    2.4547    0.7481 F   0  0  0  0  0  0  0  0  0  0  0  0\\n    2.8383    2.5037    2.9386 F   0  0  0  0  0  0  0  0  0  0  0  0\\n   -2.4207   -2.5479   -0.9212 H   0  0  0  0  0  0  0  0  0  0  0  0\\n   -4.1713   -2.8408   -1.0615 H   0  0  0  0  0  0  0  0  0  0  0  0\\n   -3.5227   -2.3720    0.5226 H   0  0  0  0  0  0  0  0  0  0  0  0\\n   -4.5539    1.4621   -2.9998 H   0  0  0  0  0  0  0  0  0  0  0  0\\n   -2.9693   -0.5032    1.6938 H   0  0  0  0  0  0  0  0  0  0  0  0\\n   -3.7178    1.0935    1.7041 H   0  0  0  0  0  0  0  0  0  0  0  0\\n   -2.3258    2.9736    1.2509 H   0  0  0  0  0  0  0  0  0  0  0  0\\n   -0.0606    4.0098    1.4876 H   0  0  0  0  0  0  0  0  0  0  0  0\\n    3.9165   -1.4660    1.9708 H   0  0  0  0  0  0  0  0  0  0  0  0\\n    4.7110   -2.5853   -2.0304 H   0  0  0  0  0  0  0  0  0  0  0  0\\n    1.3431   -0.0963   -1.0803 H   0  0  0  0  0  0  0  0  0  0  0  0\\n  1  2  1  0\\n  2  3  1  0\\n  3  4  2  0\\n  4  5  1  0\\n  5  6  1  0\\n  6  7  2  0\\n  3  8  1  0\\n  8  9  1  0\\n  9 10  1  0\\n 10 11  2  0\\n 11 12  1  0\\n 12 13  2  0\\n 13 14  1  0\\n 14 15  2  0\\n 13 16  1  0\\n 16 17  1  0\\n 17 18  2  0\\n 18 19  1  0\\n 19 20  2  0\\n 20 21  1  0\\n 21 22  2  0\\n 21 23  1  0\\n 19 24  1  0\\n 24 25  3  0\\n 12 26  1  0\\n 26 27  1  0\\n 26 28  1  0\\n 26 29  1  0\\n  6  2  1  0\\n 14  9  1  0\\n 22 17  1  0\\n  1 30  1  0\\n  1 31  1  0\\n  1 32  1  0\\n  5 33  1  0\\n  8 34  1  0\\n  8 35  1  0\\n 10 36  1  0\\n 11 37  1  0\\n 18 38  1  0\\n 20 39  1  0\\n 22 40  1  0\\nM  END\\n\",\"sdf\");\n",
       "\tviewer_15373472986920238.setStyle({\"stick\": {}});\n",
       "\tviewer_15373472986920238.setBackgroundColor(\"0xeeeeee\");\n",
       "\tviewer_15373472986920238.zoomTo();\n",
       "viewer_15373472986920238.render();\n",
       "});\n",
       "</script>"
      ]
     },
     "metadata": {},
     "output_type": "display_data"
    }
   ],
   "source": [
    "doravirine = Chem.AddHs(Chem.MolFromSmiles('Cn1c(n[nH]c1=O)Cn2ccc(c(c2=O)Oc3cc(cc(c3)Cl)C#N)C(F)(F)F'))\n",
    "ps = AllChem.ETKDGv2()\n",
    "ps.randomSeed = 0xf00d\n",
    "AllChem.EmbedMolecule(doravirine,ps)\n",
    "IPythonConsole.drawMol3D(doravirine)"
   ]
  },
  {
   "cell_type": "markdown",
   "metadata": {},
   "source": [
    "### Dragon-type descriptors:"
   ]
  },
  {
   "cell_type": "code",
   "execution_count": 4,
   "metadata": {},
   "outputs": [
    {
     "name": "stdout",
     "output_type": "stream",
     "text": [
      "AutoCorr3D: 80\n",
      "Morse: 224\n",
      "RDF: 210\n",
      "WHIM: 114\n",
      "GETAWAY: 273\n"
     ]
    }
   ],
   "source": [
    "print(\"AutoCorr3D:\",len(rdMolDescriptors.CalcAUTOCORR3D(doravirine)))\n",
    "print(\"Morse:\",len(rdMolDescriptors.CalcMORSE(doravirine)))\n",
    "print(\"RDF:\",len(rdMolDescriptors.CalcRDF(doravirine)))\n",
    "print(\"WHIM:\",len(rdMolDescriptors.CalcWHIM(doravirine)))\n",
    "print(\"GETAWAY:\",len(rdMolDescriptors.CalcGETAWAY(doravirine)))"
   ]
  },
  {
   "cell_type": "markdown",
   "metadata": {},
   "source": [
    "Note that a collection of principal moment descriptors is also available (these have been there for a while):"
   ]
  },
  {
   "cell_type": "code",
   "execution_count": 9,
   "metadata": {},
   "outputs": [
    {
     "name": "stdout",
     "output_type": "stream",
     "text": [
      "PBF 1.0255\n",
      "PMI1 2794.9144\n",
      "PMI2 4918.6167\n",
      "PMI3 6542.7980\n",
      "NPR1 0.4272\n",
      "NPR2 0.7518\n",
      "RadiusOfGyration 4.0918\n",
      "InertialShapeFactor 0.0003\n",
      "Eccentricity 0.9042\n",
      "Asphericity 0.2086\n",
      "SpherocityIndex 0.2543\n"
     ]
    }
   ],
   "source": [
    "descrs = ('PBF','PMI1','PMI2','PMI3','NPR1','NPR2','RadiusOfGyration','InertialShapeFactor',\n",
    "          'Eccentricity','Asphericity','SpherocityIndex')\n",
    "for descr in descrs:\n",
    "    calc_fn = getattr(rdMolDescriptors,'Calc%s'%descr)\n",
    "    print(f\"{descr} {calc_fn(doravirine):.4f}\")\n"
   ]
  },
  {
   "cell_type": "markdown",
   "metadata": {},
   "source": [
    "## SVGs with chemical metadata\n",
    "\n",
    "It's now possible to add some RDKit-specific metadata to the SVG output by the `MolDraw2DSVG` object and construct molecules from that data.\n",
    "\n",
    "This is still beta level, and we can't guarantee backwards compatibility between releases (though we'll certainly try), but I'd love to get some feedback on whether or not it's useful."
   ]
  },
  {
   "cell_type": "code",
   "execution_count": 56,
   "metadata": {},
   "outputs": [],
   "source": [
    "from rdkit import Chem\n",
    "from rdkit.Chem.Draw import IPythonConsole\n",
    "from rdkit.Chem import Draw\n",
    "from IPython.display import SVG"
   ]
  },
  {
   "cell_type": "code",
   "execution_count": 57,
   "metadata": {},
   "outputs": [],
   "source": [
    "doravirine = Chem.MolFromSmiles('Cn1c(n[nH]c1=O)Cn2ccc(c(c2=O)Oc3cc(cc(c3)Cl)C#N)C(F)(F)F')\n",
    "ddoravirine = Draw.PrepareMolForDrawing(doravirine)"
   ]
  },
  {
   "cell_type": "code",
   "execution_count": 58,
   "metadata": {},
   "outputs": [
    {
     "data": {
      "image/svg+xml": [
       "<svg baseProfile=\"full\" height=\"200px\" version=\"1.1\" width=\"250px\" xml:space=\"preserve\" xmlns=\"http://www.w3.org/2000/svg\" xmlns:rdkit=\"http://www.rdkit.org/xml\" xmlns:xlink=\"http://www.w3.org/1999/xlink\">\n",
       "<rect height=\"200\" style=\"opacity:1.0;fill:#FFFFFF;stroke:none\" width=\"250\" x=\"0\" y=\"0\"> </rect>\n",
       "<path d=\"M 190.464,96.0401 192.56,104.336\" style=\"fill:none;fill-rule:evenodd;stroke:#000000;stroke-width:2px;stroke-linecap:butt;stroke-linejoin:miter;stroke-opacity:1\"/>\n",
       "<path d=\"M 192.56,104.336 194.656,112.632\" style=\"fill:none;fill-rule:evenodd;stroke:#0000FF;stroke-width:2px;stroke-linecap:butt;stroke-linejoin:miter;stroke-opacity:1\"/>\n",
       "<path d=\"M 192.655,119.52 187.474,125.735\" style=\"fill:none;fill-rule:evenodd;stroke:#0000FF;stroke-width:2px;stroke-linecap:butt;stroke-linejoin:miter;stroke-opacity:1\"/>\n",
       "<path d=\"M 187.474,125.735 182.293,131.949\" style=\"fill:none;fill-rule:evenodd;stroke:#000000;stroke-width:2px;stroke-linecap:butt;stroke-linejoin:miter;stroke-opacity:1\"/>\n",
       "<path d=\"M 198.512,117.271 206.612,120.514\" style=\"fill:none;fill-rule:evenodd;stroke:#0000FF;stroke-width:2px;stroke-linecap:butt;stroke-linejoin:miter;stroke-opacity:1\"/>\n",
       "<path d=\"M 206.612,120.514 214.712,123.757\" style=\"fill:none;fill-rule:evenodd;stroke:#000000;stroke-width:2px;stroke-linecap:butt;stroke-linejoin:miter;stroke-opacity:1\"/>\n",
       "<path d=\"M 182.293,131.949 186.712,138.972\" style=\"fill:none;fill-rule:evenodd;stroke:#000000;stroke-width:2px;stroke-linecap:butt;stroke-linejoin:miter;stroke-opacity:1\"/>\n",
       "<path d=\"M 186.712,138.972 191.132,145.995\" style=\"fill:none;fill-rule:evenodd;stroke:#0000FF;stroke-width:2px;stroke-linecap:butt;stroke-linejoin:miter;stroke-opacity:1\"/>\n",
       "<path d=\"M 187.117,131.854 190.21,136.771\" style=\"fill:none;fill-rule:evenodd;stroke:#000000;stroke-width:2px;stroke-linecap:butt;stroke-linejoin:miter;stroke-opacity:1\"/>\n",
       "<path d=\"M 190.21,136.771 193.304,141.687\" style=\"fill:none;fill-rule:evenodd;stroke:#0000FF;stroke-width:2px;stroke-linecap:butt;stroke-linejoin:miter;stroke-opacity:1\"/>\n",
       "<path d=\"M 182.293,131.949 161.673,130.572\" style=\"fill:none;fill-rule:evenodd;stroke:#000000;stroke-width:2px;stroke-linecap:butt;stroke-linejoin:miter;stroke-opacity:1\"/>\n",
       "<path d=\"M 196.284,148.685 207.364,145.886\" style=\"fill:none;fill-rule:evenodd;stroke:#0000FF;stroke-width:2px;stroke-linecap:butt;stroke-linejoin:miter;stroke-opacity:1\"/>\n",
       "<path d=\"M 213.565,140.933 214.138,132.345\" style=\"fill:none;fill-rule:evenodd;stroke:#0000FF;stroke-width:2px;stroke-linecap:butt;stroke-linejoin:miter;stroke-opacity:1\"/>\n",
       "<path d=\"M 214.138,132.345 214.712,123.757\" style=\"fill:none;fill-rule:evenodd;stroke:#000000;stroke-width:2px;stroke-linecap:butt;stroke-linejoin:miter;stroke-opacity:1\"/>\n",
       "<path d=\"M 215.812,125.506 222.949,121.015\" style=\"fill:none;fill-rule:evenodd;stroke:#000000;stroke-width:2px;stroke-linecap:butt;stroke-linejoin:miter;stroke-opacity:1\"/>\n",
       "<path d=\"M 222.949,121.015 230.086,116.524\" style=\"fill:none;fill-rule:evenodd;stroke:#FF0000;stroke-width:2px;stroke-linecap:butt;stroke-linejoin:miter;stroke-opacity:1\"/>\n",
       "<path d=\"M 213.611,122.008 220.748,117.517\" style=\"fill:none;fill-rule:evenodd;stroke:#000000;stroke-width:2px;stroke-linecap:butt;stroke-linejoin:miter;stroke-opacity:1\"/>\n",
       "<path d=\"M 220.748,117.517 227.885,113.026\" style=\"fill:none;fill-rule:evenodd;stroke:#FF0000;stroke-width:2px;stroke-linecap:butt;stroke-linejoin:miter;stroke-opacity:1\"/>\n",
       "<path d=\"M 161.673,130.572 157.961,123.021\" style=\"fill:none;fill-rule:evenodd;stroke:#000000;stroke-width:2px;stroke-linecap:butt;stroke-linejoin:miter;stroke-opacity:1\"/>\n",
       "<path d=\"M 157.961,123.021 154.249,115.471\" style=\"fill:none;fill-rule:evenodd;stroke:#0000FF;stroke-width:2px;stroke-linecap:butt;stroke-linejoin:miter;stroke-opacity:1\"/>\n",
       "<path d=\"M 154.863,108.582 159.46,101.72\" style=\"fill:none;fill-rule:evenodd;stroke:#0000FF;stroke-width:2px;stroke-linecap:butt;stroke-linejoin:miter;stroke-opacity:1\"/>\n",
       "<path d=\"M 159.46,101.72 164.057,94.8574\" style=\"fill:none;fill-rule:evenodd;stroke:#000000;stroke-width:2px;stroke-linecap:butt;stroke-linejoin:miter;stroke-opacity:1\"/>\n",
       "<path d=\"M 149.57,111.827 140.753,111.238\" style=\"fill:none;fill-rule:evenodd;stroke:#0000FF;stroke-width:2px;stroke-linecap:butt;stroke-linejoin:miter;stroke-opacity:1\"/>\n",
       "<path d=\"M 140.753,111.238 131.935,110.65\" style=\"fill:none;fill-rule:evenodd;stroke:#000000;stroke-width:2px;stroke-linecap:butt;stroke-linejoin:miter;stroke-opacity:1\"/>\n",
       "<path d=\"M 164.057,94.8574 154.94,76.3118\" style=\"fill:none;fill-rule:evenodd;stroke:#000000;stroke-width:2px;stroke-linecap:butt;stroke-linejoin:miter;stroke-opacity:1\"/>\n",
       "<path d=\"M 158.981,93.8991 152.598,80.9171\" style=\"fill:none;fill-rule:evenodd;stroke:#000000;stroke-width:2px;stroke-linecap:butt;stroke-linejoin:miter;stroke-opacity:1\"/>\n",
       "<path d=\"M 154.94,76.3118 134.32,74.935\" style=\"fill:none;fill-rule:evenodd;stroke:#000000;stroke-width:2px;stroke-linecap:butt;stroke-linejoin:miter;stroke-opacity:1\"/>\n",
       "<path d=\"M 134.32,74.935 122.818,92.1039\" style=\"fill:none;fill-rule:evenodd;stroke:#000000;stroke-width:2px;stroke-linecap:butt;stroke-linejoin:miter;stroke-opacity:1\"/>\n",
       "<path d=\"M 136.028,79.8108 127.977,91.829\" style=\"fill:none;fill-rule:evenodd;stroke:#000000;stroke-width:2px;stroke-linecap:butt;stroke-linejoin:miter;stroke-opacity:1\"/>\n",
       "<path d=\"M 134.32,74.935 125.202,56.3894\" style=\"fill:none;fill-rule:evenodd;stroke:#000000;stroke-width:2px;stroke-linecap:butt;stroke-linejoin:miter;stroke-opacity:1\"/>\n",
       "<path d=\"M 122.818,92.1039 131.935,110.65\" style=\"fill:none;fill-rule:evenodd;stroke:#000000;stroke-width:2px;stroke-linecap:butt;stroke-linejoin:miter;stroke-opacity:1\"/>\n",
       "<path d=\"M 122.818,92.1039 114.116,91.5229\" style=\"fill:none;fill-rule:evenodd;stroke:#000000;stroke-width:2px;stroke-linecap:butt;stroke-linejoin:miter;stroke-opacity:1\"/>\n",
       "<path d=\"M 114.116,91.5229 105.415,90.942\" style=\"fill:none;fill-rule:evenodd;stroke:#FF0000;stroke-width:2px;stroke-linecap:butt;stroke-linejoin:miter;stroke-opacity:1\"/>\n",
       "<path d=\"M 130.219,109.499 125.621,116.362\" style=\"fill:none;fill-rule:evenodd;stroke:#000000;stroke-width:2px;stroke-linecap:butt;stroke-linejoin:miter;stroke-opacity:1\"/>\n",
       "<path d=\"M 125.621,116.362 121.024,123.224\" style=\"fill:none;fill-rule:evenodd;stroke:#FF0000;stroke-width:2px;stroke-linecap:butt;stroke-linejoin:miter;stroke-opacity:1\"/>\n",
       "<path d=\"M 133.652,111.8 129.055,118.662\" style=\"fill:none;fill-rule:evenodd;stroke:#000000;stroke-width:2px;stroke-linecap:butt;stroke-linejoin:miter;stroke-opacity:1\"/>\n",
       "<path d=\"M 129.055,118.662 124.458,125.524\" style=\"fill:none;fill-rule:evenodd;stroke:#FF0000;stroke-width:2px;stroke-linecap:butt;stroke-linejoin:miter;stroke-opacity:1\"/>\n",
       "<path d=\"M 99.8906,94.1715 95.2932,101.034\" style=\"fill:none;fill-rule:evenodd;stroke:#FF0000;stroke-width:2px;stroke-linecap:butt;stroke-linejoin:miter;stroke-opacity:1\"/>\n",
       "<path d=\"M 95.2932,101.034 90.6959,107.896\" style=\"fill:none;fill-rule:evenodd;stroke:#000000;stroke-width:2px;stroke-linecap:butt;stroke-linejoin:miter;stroke-opacity:1\"/>\n",
       "<path d=\"M 90.6959,107.896 70.0761,106.519\" style=\"fill:none;fill-rule:evenodd;stroke:#000000;stroke-width:2px;stroke-linecap:butt;stroke-linejoin:miter;stroke-opacity:1\"/>\n",
       "<path d=\"M 87.3275,111.814 72.8937,110.85\" style=\"fill:none;fill-rule:evenodd;stroke:#000000;stroke-width:2px;stroke-linecap:butt;stroke-linejoin:miter;stroke-opacity:1\"/>\n",
       "<path d=\"M 90.6959,107.896 99.8135,126.442\" style=\"fill:none;fill-rule:evenodd;stroke:#000000;stroke-width:2px;stroke-linecap:butt;stroke-linejoin:miter;stroke-opacity:1\"/>\n",
       "<path d=\"M 70.0761,106.519 58.5739,123.688\" style=\"fill:none;fill-rule:evenodd;stroke:#000000;stroke-width:2px;stroke-linecap:butt;stroke-linejoin:miter;stroke-opacity:1\"/>\n",
       "<path d=\"M 58.5739,123.688 67.6915,142.234\" style=\"fill:none;fill-rule:evenodd;stroke:#000000;stroke-width:2px;stroke-linecap:butt;stroke-linejoin:miter;stroke-opacity:1\"/>\n",
       "<path d=\"M 63.6506,124.647 70.033,137.629\" style=\"fill:none;fill-rule:evenodd;stroke:#000000;stroke-width:2px;stroke-linecap:butt;stroke-linejoin:miter;stroke-opacity:1\"/>\n",
       "<path d=\"M 58.5739,123.688 37.9541,122.311\" style=\"fill:none;fill-rule:evenodd;stroke:#000000;stroke-width:2px;stroke-linecap:butt;stroke-linejoin:miter;stroke-opacity:1\"/>\n",
       "<path d=\"M 67.6915,142.234 88.3113,143.611\" style=\"fill:none;fill-rule:evenodd;stroke:#000000;stroke-width:2px;stroke-linecap:butt;stroke-linejoin:miter;stroke-opacity:1\"/>\n",
       "<path d=\"M 88.3113,143.611 99.8135,126.442\" style=\"fill:none;fill-rule:evenodd;stroke:#000000;stroke-width:2px;stroke-linecap:butt;stroke-linejoin:miter;stroke-opacity:1\"/>\n",
       "<path d=\"M 86.6028,138.735 94.6544,126.717\" style=\"fill:none;fill-rule:evenodd;stroke:#000000;stroke-width:2px;stroke-linecap:butt;stroke-linejoin:miter;stroke-opacity:1\"/>\n",
       "<path d=\"M 88.3113,143.611 92.0234,151.161\" style=\"fill:none;fill-rule:evenodd;stroke:#000000;stroke-width:2px;stroke-linecap:butt;stroke-linejoin:miter;stroke-opacity:1\"/>\n",
       "<path d=\"M 92.0234,151.161 95.7356,158.712\" style=\"fill:none;fill-rule:evenodd;stroke:#00CC00;stroke-width:2px;stroke-linecap:butt;stroke-linejoin:miter;stroke-opacity:1\"/>\n",
       "<path d=\"M 37.9541,122.311 29.1368,121.723\" style=\"fill:none;fill-rule:evenodd;stroke:#000000;stroke-width:2px;stroke-linecap:butt;stroke-linejoin:miter;stroke-opacity:1\"/>\n",
       "<path d=\"M 29.1368,121.723 20.3196,121.134\" style=\"fill:none;fill-rule:evenodd;stroke:#0000FF;stroke-width:2px;stroke-linecap:butt;stroke-linejoin:miter;stroke-opacity:1\"/>\n",
       "<path d=\"M 35.5843,118.011 28.0896,117.511\" style=\"fill:none;fill-rule:evenodd;stroke:#000000;stroke-width:2px;stroke-linecap:butt;stroke-linejoin:miter;stroke-opacity:1\"/>\n",
       "<path d=\"M 28.0896,117.511 20.595,117.01\" style=\"fill:none;fill-rule:evenodd;stroke:#0000FF;stroke-width:2px;stroke-linecap:butt;stroke-linejoin:miter;stroke-opacity:1\"/>\n",
       "<path d=\"M 35.0336,126.259 27.5389,125.758\" style=\"fill:none;fill-rule:evenodd;stroke:#000000;stroke-width:2px;stroke-linecap:butt;stroke-linejoin:miter;stroke-opacity:1\"/>\n",
       "<path d=\"M 27.5389,125.758 20.0443,125.258\" style=\"fill:none;fill-rule:evenodd;stroke:#0000FF;stroke-width:2px;stroke-linecap:butt;stroke-linejoin:miter;stroke-opacity:1\"/>\n",
       "<path d=\"M 125.202,56.3894 121.49,48.8387\" style=\"fill:none;fill-rule:evenodd;stroke:#000000;stroke-width:2px;stroke-linecap:butt;stroke-linejoin:miter;stroke-opacity:1\"/>\n",
       "<path d=\"M 121.49,48.8387 117.778,41.288\" style=\"fill:none;fill-rule:evenodd;stroke:#33CCCC;stroke-width:2px;stroke-linecap:butt;stroke-linejoin:miter;stroke-opacity:1\"/>\n",
       "<path d=\"M 125.202,56.3894 133.212,52.4516\" style=\"fill:none;fill-rule:evenodd;stroke:#000000;stroke-width:2px;stroke-linecap:butt;stroke-linejoin:miter;stroke-opacity:1\"/>\n",
       "<path d=\"M 133.212,52.4516 141.222,48.5138\" style=\"fill:none;fill-rule:evenodd;stroke:#33CCCC;stroke-width:2px;stroke-linecap:butt;stroke-linejoin:miter;stroke-opacity:1\"/>\n",
       "<path d=\"M 125.202,56.3894 117.193,60.3272\" style=\"fill:none;fill-rule:evenodd;stroke:#000000;stroke-width:2px;stroke-linecap:butt;stroke-linejoin:miter;stroke-opacity:1\"/>\n",
       "<path d=\"M 117.193,60.3272 109.183,64.265\" style=\"fill:none;fill-rule:evenodd;stroke:#33CCCC;stroke-width:2px;stroke-linecap:butt;stroke-linejoin:miter;stroke-opacity:1\"/>\n",
       "<text style=\"font-size:6px;font-style:normal;font-weight:normal;fill-opacity:1;stroke:none;font-family:sans-serif;text-anchor:start;fill:#0000FF\" x=\"192.541\" y=\"119.52\"><tspan>N</tspan></text>\n",
       "<text style=\"font-size:6px;font-style:normal;font-weight:normal;fill-opacity:1;stroke:none;font-family:sans-serif;text-anchor:start;fill:#0000FF\" x=\"190.314\" y=\"152.884\"><tspan>N</tspan></text>\n",
       "<text style=\"font-size:6px;font-style:normal;font-weight:normal;fill-opacity:1;stroke:none;font-family:sans-serif;text-anchor:start;fill:#0000FF\" x=\"207.364\" y=\"147.821\"><tspan>NH</tspan></text>\n",
       "<text style=\"font-size:6px;font-style:normal;font-weight:normal;fill-opacity:1;stroke:none;font-family:sans-serif;text-anchor:start;fill:#FF0000\" x=\"228.986\" y=\"116.195\"><tspan>O</tspan></text>\n",
       "<text style=\"font-size:6px;font-style:normal;font-weight:normal;fill-opacity:1;stroke:none;font-family:sans-serif;text-anchor:start;fill:#0000FF\" x=\"149.57\" y=\"115.471\"><tspan>N</tspan></text>\n",
       "<text style=\"font-size:6px;font-style:normal;font-weight:normal;fill-opacity:1;stroke:none;font-family:sans-serif;text-anchor:start;fill:#FF0000\" x=\"117.216\" y=\"131.263\"><tspan>O</tspan></text>\n",
       "<text style=\"font-size:6px;font-style:normal;font-weight:normal;fill-opacity:1;stroke:none;font-family:sans-serif;text-anchor:start;fill:#FF0000\" x=\"98.9812\" y=\"94.1715\"><tspan>O</tspan></text>\n",
       "<text style=\"font-size:6px;font-style:normal;font-weight:normal;fill-opacity:1;stroke:none;font-family:sans-serif;text-anchor:start;fill:#00CC00\" x=\"93.5256\" y=\"165.601\"><tspan>Cl</tspan></text>\n",
       "<text style=\"font-size:6px;font-style:normal;font-weight:normal;fill-opacity:1;stroke:none;font-family:sans-serif;text-anchor:start;fill:#0000FF\" x=\"14.349\" y=\"124.379\"><tspan>N</tspan></text>\n",
       "<text style=\"font-size:6px;font-style:normal;font-weight:normal;fill-opacity:1;stroke:none;font-family:sans-serif;text-anchor:start;fill:#33CCCC\" x=\"113.558\" y=\"41.288\"><tspan>F</tspan></text>\n",
       "<text style=\"font-size:6px;font-style:normal;font-weight:normal;fill-opacity:1;stroke:none;font-family:sans-serif;text-anchor:start;fill:#33CCCC\" x=\"141.222\" y=\"50.7161\"><tspan>F</tspan></text>\n",
       "<text style=\"font-size:6px;font-style:normal;font-weight:normal;fill-opacity:1;stroke:none;font-family:sans-serif;text-anchor:start;fill:#33CCCC\" x=\"104.13\" y=\"68.9513\"><tspan>F</tspan></text>\n",
       "<metadata>\n",
       "<rdkit:mol version=\"0.9\" xmlns:rdkit=\"http://www.rdkit.org/xml\">\n",
       "<rdkit:atom atom-smiles=\"[CH3]\" drawing-x=\"190.464\" drawing-y=\"96.0401\" idx=\"1\" x=\"4.34784\" y=\"0.906131\" z=\"0\"/>\n",
       "<rdkit:atom atom-smiles=\"[n]\" drawing-x=\"195.526\" drawing-y=\"116.076\" idx=\"2\" x=\"4.7153\" y=\"-0.548165\" z=\"0\"/>\n",
       "<rdkit:atom atom-smiles=\"[c]\" drawing-x=\"182.293\" drawing-y=\"131.949\" idx=\"3\" x=\"3.75473\" y=\"-1.70026\" z=\"0\"/>\n",
       "<rdkit:atom atom-smiles=\"[n]\" drawing-x=\"193.299\" drawing-y=\"149.44\" idx=\"4\" x=\"4.55361\" y=\"-2.96982\" z=\"0\"/>\n",
       "<rdkit:atom atom-smiles=\"[nH]\" drawing-x=\"213.335\" drawing-y=\"144.377\" idx=\"5\" x=\"6.0079\" y=\"-2.60237\" z=\"0\"/>\n",
       "<rdkit:atom atom-smiles=\"[c]\" drawing-x=\"214.712\" drawing-y=\"123.757\" idx=\"6\" x=\"6.10783\" y=\"-1.1057\" z=\"0\"/>\n",
       "<rdkit:atom atom-smiles=\"[O]\" drawing-x=\"232.203\" drawing-y=\"112.751\" idx=\"7\" x=\"7.3774\" y=\"-0.306824\" z=\"0\"/>\n",
       "<rdkit:atom atom-smiles=\"[CH2]\" drawing-x=\"161.673\" drawing-y=\"130.572\" idx=\"8\" x=\"2.25806\" y=\"-1.60033\" z=\"0\"/>\n",
       "<rdkit:atom atom-smiles=\"[n]\" drawing-x=\"152.555\" drawing-y=\"112.026\" idx=\"9\" x=\"1.59627\" y=\"-0.254211\" z=\"0\"/>\n",
       "<rdkit:atom atom-smiles=\"[cH]\" drawing-x=\"164.057\" drawing-y=\"94.8574\" idx=\"10\" x=\"2.43115\" y=\"0.991977\" z=\"0\"/>\n",
       "<rdkit:atom atom-smiles=\"[cH]\" drawing-x=\"154.94\" drawing-y=\"76.3118\" idx=\"11\" x=\"1.76935\" y=\"2.33809\" z=\"0\"/>\n",
       "<rdkit:atom atom-smiles=\"[c]\" drawing-x=\"134.32\" drawing-y=\"74.935\" idx=\"12\" x=\"0.272687\" y=\"2.43802\" z=\"0\"/>\n",
       "<rdkit:atom atom-smiles=\"[c]\" drawing-x=\"122.818\" drawing-y=\"92.1039\" idx=\"13\" x=\"-0.562188\" y=\"1.19184\" z=\"0\"/>\n",
       "<rdkit:atom atom-smiles=\"[c]\" drawing-x=\"131.935\" drawing-y=\"110.65\" idx=\"14\" x=\"0.0996044\" y=\"-0.154281\" z=\"0\"/>\n",
       "<rdkit:atom atom-smiles=\"[O]\" drawing-x=\"120.433\" drawing-y=\"127.818\" idx=\"15\" x=\"-0.735271\" y=\"-1.40047\" z=\"0\"/>\n",
       "<rdkit:atom atom-smiles=\"[O]\" drawing-x=\"102.198\" drawing-y=\"90.7272\" idx=\"16\" x=\"-2.05886\" y=\"1.29177\" z=\"0\"/>\n",
       "<rdkit:atom atom-smiles=\"[c]\" drawing-x=\"90.6959\" drawing-y=\"107.896\" idx=\"17\" x=\"-2.89373\" y=\"0.0455775\" z=\"0\"/>\n",
       "<rdkit:atom atom-smiles=\"[cH]\" drawing-x=\"70.0761\" drawing-y=\"106.519\" idx=\"18\" x=\"-4.3904\" y=\"0.145507\" z=\"0\"/>\n",
       "<rdkit:atom atom-smiles=\"[c]\" drawing-x=\"58.5739\" drawing-y=\"123.688\" idx=\"19\" x=\"-5.22527\" y=\"-1.10068\" z=\"0\"/>\n",
       "<rdkit:atom atom-smiles=\"[cH]\" drawing-x=\"67.6915\" drawing-y=\"142.234\" idx=\"20\" x=\"-4.56348\" y=\"-2.4468\" z=\"0\"/>\n",
       "<rdkit:atom atom-smiles=\"[c]\" drawing-x=\"88.3113\" drawing-y=\"143.611\" idx=\"21\" x=\"-3.06681\" y=\"-2.54673\" z=\"0\"/>\n",
       "<rdkit:atom atom-smiles=\"[cH]\" drawing-x=\"99.8135\" drawing-y=\"126.442\" idx=\"22\" x=\"-2.23194\" y=\"-1.30054\" z=\"0\"/>\n",
       "<rdkit:atom atom-smiles=\"[Cl]\" drawing-x=\"97.4289\" drawing-y=\"162.156\" idx=\"23\" x=\"-2.40502\" y=\"-3.89284\" z=\"0\"/>\n",
       "<rdkit:atom atom-smiles=\"[C]\" drawing-x=\"37.9541\" drawing-y=\"122.311\" idx=\"24\" x=\"-6.72194\" y=\"-1.00075\" z=\"0\"/>\n",
       "<rdkit:atom atom-smiles=\"[N]\" drawing-x=\"17.3343\" drawing-y=\"120.935\" idx=\"25\" x=\"-8.21861\" y=\"-0.900822\" z=\"0\"/>\n",
       "<rdkit:atom atom-smiles=\"[C]\" drawing-x=\"125.202\" drawing-y=\"56.3894\" idx=\"26\" x=\"-0.389105\" y=\"3.78414\" z=\"0\"/>\n",
       "<rdkit:atom atom-smiles=\"[F]\" drawing-x=\"116.085\" drawing-y=\"37.8437\" idx=\"27\" x=\"-1.0509\" y=\"5.13026\" z=\"0\"/>\n",
       "<rdkit:atom atom-smiles=\"[F]\" drawing-x=\"143.748\" drawing-y=\"47.2718\" idx=\"28\" x=\"0.957012\" y=\"4.44593\" z=\"0\"/>\n",
       "<rdkit:atom atom-smiles=\"[F]\" drawing-x=\"106.657\" drawing-y=\"65.507\" idx=\"29\" x=\"-1.73522\" y=\"3.12235\" z=\"0\"/>\n",
       "<rdkit:bond begin-atom-idx=\"1\" bond-smiles=\"-\" end-atom-idx=\"2\" idx=\"1\"/>\n",
       "<rdkit:bond begin-atom-idx=\"2\" bond-smiles=\"-\" end-atom-idx=\"3\" idx=\"2\"/>\n",
       "<rdkit:bond begin-atom-idx=\"3\" bond-smiles=\"=\" end-atom-idx=\"4\" idx=\"3\"/>\n",
       "<rdkit:bond begin-atom-idx=\"4\" bond-smiles=\"-\" end-atom-idx=\"5\" idx=\"4\"/>\n",
       "<rdkit:bond begin-atom-idx=\"5\" bond-smiles=\"-\" end-atom-idx=\"6\" idx=\"5\"/>\n",
       "<rdkit:bond begin-atom-idx=\"6\" bond-smiles=\"=\" end-atom-idx=\"7\" idx=\"6\"/>\n",
       "<rdkit:bond begin-atom-idx=\"3\" bond-smiles=\"-\" end-atom-idx=\"8\" idx=\"7\"/>\n",
       "<rdkit:bond begin-atom-idx=\"8\" bond-smiles=\"-\" end-atom-idx=\"9\" idx=\"8\"/>\n",
       "<rdkit:bond begin-atom-idx=\"9\" bond-smiles=\"-\" end-atom-idx=\"10\" idx=\"9\"/>\n",
       "<rdkit:bond begin-atom-idx=\"10\" bond-smiles=\"=\" end-atom-idx=\"11\" idx=\"10\"/>\n",
       "<rdkit:bond begin-atom-idx=\"11\" bond-smiles=\"-\" end-atom-idx=\"12\" idx=\"11\"/>\n",
       "<rdkit:bond begin-atom-idx=\"12\" bond-smiles=\"=\" end-atom-idx=\"13\" idx=\"12\"/>\n",
       "<rdkit:bond begin-atom-idx=\"13\" bond-smiles=\"-\" end-atom-idx=\"14\" idx=\"13\"/>\n",
       "<rdkit:bond begin-atom-idx=\"14\" bond-smiles=\"=\" end-atom-idx=\"15\" idx=\"14\"/>\n",
       "<rdkit:bond begin-atom-idx=\"13\" bond-smiles=\"-\" end-atom-idx=\"16\" idx=\"15\"/>\n",
       "<rdkit:bond begin-atom-idx=\"16\" bond-smiles=\"-\" end-atom-idx=\"17\" idx=\"16\"/>\n",
       "<rdkit:bond begin-atom-idx=\"17\" bond-smiles=\"=\" end-atom-idx=\"18\" idx=\"17\"/>\n",
       "<rdkit:bond begin-atom-idx=\"18\" bond-smiles=\"-\" end-atom-idx=\"19\" idx=\"18\"/>\n",
       "<rdkit:bond begin-atom-idx=\"19\" bond-smiles=\"=\" end-atom-idx=\"20\" idx=\"19\"/>\n",
       "<rdkit:bond begin-atom-idx=\"20\" bond-smiles=\"-\" end-atom-idx=\"21\" idx=\"20\"/>\n",
       "<rdkit:bond begin-atom-idx=\"21\" bond-smiles=\"=\" end-atom-idx=\"22\" idx=\"21\"/>\n",
       "<rdkit:bond begin-atom-idx=\"21\" bond-smiles=\"-\" end-atom-idx=\"23\" idx=\"22\"/>\n",
       "<rdkit:bond begin-atom-idx=\"19\" bond-smiles=\"-\" end-atom-idx=\"24\" idx=\"23\"/>\n",
       "<rdkit:bond begin-atom-idx=\"24\" bond-smiles=\"#\" end-atom-idx=\"25\" idx=\"24\"/>\n",
       "<rdkit:bond begin-atom-idx=\"12\" bond-smiles=\"-\" end-atom-idx=\"26\" idx=\"25\"/>\n",
       "<rdkit:bond begin-atom-idx=\"26\" bond-smiles=\"-\" end-atom-idx=\"27\" idx=\"26\"/>\n",
       "<rdkit:bond begin-atom-idx=\"26\" bond-smiles=\"-\" end-atom-idx=\"28\" idx=\"27\"/>\n",
       "<rdkit:bond begin-atom-idx=\"26\" bond-smiles=\"-\" end-atom-idx=\"29\" idx=\"28\"/>\n",
       "<rdkit:bond begin-atom-idx=\"6\" bond-smiles=\"-\" end-atom-idx=\"2\" idx=\"29\"/>\n",
       "<rdkit:bond begin-atom-idx=\"14\" bond-smiles=\"-\" end-atom-idx=\"9\" idx=\"30\"/>\n",
       "<rdkit:bond begin-atom-idx=\"22\" bond-smiles=\"-\" end-atom-idx=\"17\" idx=\"31\"/>\n",
       "</rdkit:mol></metadata>\n",
       "</svg>"
      ],
      "text/plain": [
       "<IPython.core.display.SVG object>"
      ]
     },
     "execution_count": 58,
     "metadata": {},
     "output_type": "execute_result"
    }
   ],
   "source": [
    "d = Draw.MolDraw2DSVG(250,200)\n",
    "d.DrawMolecule(ddoravirine)\n",
    "d.AddMoleculeMetadata(ddoravirine)\n",
    "d.FinishDrawing()\n",
    "svg = d.GetDrawingText()\n",
    "SVG(svg)"
   ]
  },
  {
   "cell_type": "code",
   "execution_count": 59,
   "metadata": {},
   "outputs": [
    {
     "name": "stdout",
     "output_type": "stream",
     "text": [
      "<?xml version='1.0' encoding='iso-8859-1'?>\n",
      "<svg version='1.1' baseProfile='full'\n",
      "              xmlns='http://www.w3.org/2000/svg'\n",
      "                      xmlns:rdkit='http://www.rdkit.org/xml'\n",
      "                      xmlns:xlink='http://www.w3.org/1999/xlink'\n",
      "                  xml:space='preserve'\n",
      "width='250px' height='200px' >\n",
      "<rect style='opacity:1.0;fill:#FFFFFF;stroke:none' width='250' height='200' x='0' y='0'> </rect>\n",
      "<path d='M 190.464,96.0401 192.56,104.336' style='fill:none;fill-rule:evenodd;stroke:#000000;stroke-width:2px;stroke-linecap:butt;stroke-linejoin:miter;stroke-opacity:1' />\n",
      "<path d='M 192.56,104.336 194.656,112.632' style='fill:none;fill-rule:evenodd;stroke:#0000FF;stroke-width:2px;stroke-linecap:butt;stroke-linejoin:miter;stroke-opacity:1' />\n",
      "<path d='M 192.655,119.52 187.474,125.735' style='fill:none;fill-rule:evenodd;stroke:#0000FF;stroke-width:2px;stroke-linecap:butt;stroke-linejoin:miter;stroke-opacity:1' />\n",
      "<path d='M 187.474,125.735 182.293,131.949' style='fill:none;fill-rule:evenodd;stroke:#000000;stroke-width:2px;stroke-linecap:butt;stroke-linejoin:miter;stroke-opacity:1' />\n",
      "<path d='M 198.512,117.271 206.612,120.514' style='fill:none;fill-rule:evenodd;stroke:#0000FF;stroke-width:2px;stroke-linecap:butt;stroke-linejoin:miter;stroke-opacity:1' />\n",
      "<path d='M 206.612,120.514 214.712,123.757' style='fill:none;fill-rule:evenodd;stroke:#000000;stroke-width:2px;stroke-linecap:butt;stroke-linejoin:miter;stroke-opacity:1' />\n",
      "<path d='M 182.293,131.949 186.712,138.972' style='fill:none;fill-rule:evenodd;stroke:#000000;stroke-width:2px;stroke-linecap:butt;stroke-linejoin:miter;stroke-opacity:1' />\n",
      "<path d='M 186.712,138.972 191.132,145.995' style='fill:none;fill-rule:evenodd;stroke:#0000FF;stroke-width:2px;stroke-linecap:butt;stroke-linejoin:miter;stroke-opacity:1' />\n",
      "<path d='M 187.117,131.854 190.21,136.771' style='fill:none;fill-rule:evenodd;stroke:#000000;stroke-width:2px;stroke-linecap:butt;stroke-linejoin:miter;stroke-opacity:1' />\n",
      "<path d='M 190.21,136.771 193.304,141.687' style='fill:none;fill-rule:evenodd;stroke:#0000FF;stroke-width:2px;stroke-linecap:butt;stroke-linejoin:miter;stroke-opacity:1' />\n",
      "<path d='M 182.293,131.949 161.673,130.572' style='fill:none;fill-rule:evenodd;stroke:#000000;stroke-width:2px;stroke-linecap:butt;stroke-linejoin:miter;stroke-opacity:1' />\n",
      "<path d='M 196.284,148.685 207.364,145.886' style='fill:none;fill-rule:evenodd;stroke:#0000FF;stroke-width:2px;stroke-linecap:butt;stroke-linejoin:miter;stroke-opacity:1' />\n",
      "<path d='M 213.565,140.933 214.138,132.345' style='fill:none;fill-rule:evenodd;stroke:#0000FF;stroke-width:2px;stroke-linecap:butt;stroke-linejoin:miter;stroke-opacity:1' />\n",
      "<path d='M 214.138,132.345 214.712,123.757' style='fill:none;fill-rule:evenodd;stroke:#000000;stroke-width:2px;stroke-linecap:butt;stroke-linejoin:miter;stroke-opacity:1' />\n",
      "<path d='M 215.812,125.506 222.949,121.015' style='fill:none;fill-rule:evenodd;stroke:#000000;stroke-width:2px;stroke-linecap:butt;stroke-linejoin:miter;stroke-opacity:1' />\n",
      "<path d='M 222.949,121.015 230.086,116.524' style='fill:none;fill-rule:evenodd;stroke:#FF0000;stroke-width:2px;stroke-linecap:butt;stroke-linejoin:miter;stroke-opacity:1' />\n",
      "<path d='M 213.611,122.008 220.748,117.517' style='fill:none;fill-rule:evenodd;stroke:#000000;stroke-width:2px;stroke-linecap:butt;stroke-linejoin:miter;stroke-opacity:1' />\n",
      "<path d='M 220.748,117.517 227.885,113.026' style='fill:none;fill-rule:evenodd;stroke:#FF0000;stroke-width:2px;stroke-linecap:butt;stroke-linejoin:miter;stroke-opacity:1' />\n",
      "<path d='M 161.673,130.572 157.961,123.021' style='fill:none;fill-rule:evenodd;stroke:#000000;stroke-width:2px;stroke-linecap:butt;stroke-linejoin:miter;stroke-opacity:1' />\n",
      "<path d='M 157.961,123.021 154.249,115.471' style='fill:none;fill-rule:evenodd;stroke:#0000FF;stroke-width:2px;stroke-linecap:butt;stroke-linejoin:miter;stroke-opacity:1' />\n",
      "<path d='M 154.863,108.582 159.46,101.72' style='fill:none;fill-rule:evenodd;stroke:#0000FF;stroke-width:2px;stroke-linecap:butt;stroke-linejoin:miter;stroke-opacity:1' />\n",
      "<path d='M 159.46,101.72 164.057,94.8574' style='fill:none;fill-rule:evenodd;stroke:#000000;stroke-width:2px;stroke-linecap:butt;stroke-linejoin:miter;stroke-opacity:1' />\n",
      "<path d='M 149.57,111.827 140.753,111.238' style='fill:none;fill-rule:evenodd;stroke:#0000FF;stroke-width:2px;stroke-linecap:butt;stroke-linejoin:miter;stroke-opacity:1' />\n",
      "<path d='M 140.753,111.238 131.935,110.65' style='fill:none;fill-rule:evenodd;stroke:#000000;stroke-width:2px;stroke-linecap:butt;stroke-linejoin:miter;stroke-opacity:1' />\n",
      "<path d='M 164.057,94.8574 154.94,76.3118' style='fill:none;fill-rule:evenodd;stroke:#000000;stroke-width:2px;stroke-linecap:butt;stroke-linejoin:miter;stroke-opacity:1' />\n",
      "<path d='M 158.981,93.8991 152.598,80.9171' style='fill:none;fill-rule:evenodd;stroke:#000000;stroke-width:2px;stroke-linecap:butt;stroke-linejoin:miter;stroke-opacity:1' />\n",
      "<path d='M 154.94,76.3118 134.32,74.935' style='fill:none;fill-rule:evenodd;stroke:#000000;stroke-width:2px;stroke-linecap:butt;stroke-linejoin:miter;stroke-opacity:1' />\n",
      "<path d='M 134.32,74.935 122.818,92.1039' style='fill:none;fill-rule:evenodd;stroke:#000000;stroke-width:2px;stroke-linecap:butt;stroke-linejoin:miter;stroke-opacity:1' />\n",
      "<path d='M 136.028,79.8108 127.977,91.829' style='fill:none;fill-rule:evenodd;stroke:#000000;stroke-width:2px;stroke-linecap:butt;stroke-linejoin:miter;stroke-opacity:1' />\n",
      "<path d='M 134.32,74.935 125.202,56.3894' style='fill:none;fill-rule:evenodd;stroke:#000000;stroke-width:2px;stroke-linecap:butt;stroke-linejoin:miter;stroke-opacity:1' />\n",
      "<path d='M 122.818,92.1039 131.935,110.65' style='fill:none;fill-rule:evenodd;stroke:#000000;stroke-width:2px;stroke-linecap:butt;stroke-linejoin:miter;stroke-opacity:1' />\n",
      "<path d='M 122.818,92.1039 114.116,91.5229' style='fill:none;fill-rule:evenodd;stroke:#000000;stroke-width:2px;stroke-linecap:butt;stroke-linejoin:miter;stroke-opacity:1' />\n",
      "<path d='M 114.116,91.5229 105.415,90.942' style='fill:none;fill-rule:evenodd;stroke:#FF0000;stroke-width:2px;stroke-linecap:butt;stroke-linejoin:miter;stroke-opacity:1' />\n",
      "<path d='M 130.219,109.499 125.621,116.362' style='fill:none;fill-rule:evenodd;stroke:#000000;stroke-width:2px;stroke-linecap:butt;stroke-linejoin:miter;stroke-opacity:1' />\n",
      "<path d='M 125.621,116.362 121.024,123.224' style='fill:none;fill-rule:evenodd;stroke:#FF0000;stroke-width:2px;stroke-linecap:butt;stroke-linejoin:miter;stroke-opacity:1' />\n",
      "<path d='M 133.652,111.8 129.055,118.662' style='fill:none;fill-rule:evenodd;stroke:#000000;stroke-width:2px;stroke-linecap:butt;stroke-linejoin:miter;stroke-opacity:1' />\n",
      "<path d='M 129.055,118.662 124.458,125.524' style='fill:none;fill-rule:evenodd;stroke:#FF0000;stroke-width:2px;stroke-linecap:butt;stroke-linejoin:miter;stroke-opacity:1' />\n",
      "<path d='M 99.8906,94.1715 95.2932,101.034' style='fill:none;fill-rule:evenodd;stroke:#FF0000;stroke-width:2px;stroke-linecap:butt;stroke-linejoin:miter;stroke-opacity:1' />\n",
      "<path d='M 95.2932,101.034 90.6959,107.896' style='fill:none;fill-rule:evenodd;stroke:#000000;stroke-width:2px;stroke-linecap:butt;stroke-linejoin:miter;stroke-opacity:1' />\n",
      "<path d='M 90.6959,107.896 70.0761,106.519' style='fill:none;fill-rule:evenodd;stroke:#000000;stroke-width:2px;stroke-linecap:butt;stroke-linejoin:miter;stroke-opacity:1' />\n",
      "<path d='M 87.3275,111.814 72.8937,110.85' style='fill:none;fill-rule:evenodd;stroke:#000000;stroke-width:2px;stroke-linecap:butt;stroke-linejoin:miter;stroke-opacity:1' />\n",
      "<path d='M 90.6959,107.896 99.8135,126.442' style='fill:none;fill-rule:evenodd;stroke:#000000;stroke-width:2px;stroke-linecap:butt;stroke-linejoin:miter;stroke-opacity:1' />\n",
      "<path d='M 70.0761,106.519 58.5739,123.688' style='fill:none;fill-rule:evenodd;stroke:#000000;stroke-width:2px;stroke-linecap:butt;stroke-linejoin:miter;stroke-opacity:1' />\n",
      "<path d='M 58.5739,123.688 67.6915,142.234' style='fill:none;fill-rule:evenodd;stroke:#000000;stroke-width:2px;stroke-linecap:butt;stroke-linejoin:miter;stroke-opacity:1' />\n",
      "<path d='M 63.6506,124.647 70.033,137.629' style='fill:none;fill-rule:evenodd;stroke:#000000;stroke-width:2px;stroke-linecap:butt;stroke-linejoin:miter;stroke-opacity:1' />\n",
      "<path d='M 58.5739,123.688 37.9541,122.311' style='fill:none;fill-rule:evenodd;stroke:#000000;stroke-width:2px;stroke-linecap:butt;stroke-linejoin:miter;stroke-opacity:1' />\n",
      "<path d='M 67.6915,142.234 88.3113,143.611' style='fill:none;fill-rule:evenodd;stroke:#000000;stroke-width:2px;stroke-linecap:butt;stroke-linejoin:miter;stroke-opacity:1' />\n",
      "<path d='M 88.3113,143.611 99.8135,126.442' style='fill:none;fill-rule:evenodd;stroke:#000000;stroke-width:2px;stroke-linecap:butt;stroke-linejoin:miter;stroke-opacity:1' />\n",
      "<path d='M 86.6028,138.735 94.6544,126.717' style='fill:none;fill-rule:evenodd;stroke:#000000;stroke-width:2px;stroke-linecap:butt;stroke-linejoin:miter;stroke-opacity:1' />\n",
      "<path d='M 88.3113,143.611 92.0234,151.161' style='fill:none;fill-rule:evenodd;stroke:#000000;stroke-width:2px;stroke-linecap:butt;stroke-linejoin:miter;stroke-opacity:1' />\n",
      "<path d='M 92.0234,151.161 95.7356,158.712' style='fill:none;fill-rule:evenodd;stroke:#00CC00;stroke-width:2px;stroke-linecap:butt;stroke-linejoin:miter;stroke-opacity:1' />\n",
      "<path d='M 37.9541,122.311 29.1368,121.723' style='fill:none;fill-rule:evenodd;stroke:#000000;stroke-width:2px;stroke-linecap:butt;stroke-linejoin:miter;stroke-opacity:1' />\n",
      "<path d='M 29.1368,121.723 20.3196,121.134' style='fill:none;fill-rule:evenodd;stroke:#0000FF;stroke-width:2px;stroke-linecap:butt;stroke-linejoin:miter;stroke-opacity:1' />\n",
      "<path d='M 35.5843,118.011 28.0896,117.511' style='fill:none;fill-rule:evenodd;stroke:#000000;stroke-width:2px;stroke-linecap:butt;stroke-linejoin:miter;stroke-opacity:1' />\n",
      "<path d='M 28.0896,117.511 20.595,117.01' style='fill:none;fill-rule:evenodd;stroke:#0000FF;stroke-width:2px;stroke-linecap:butt;stroke-linejoin:miter;stroke-opacity:1' />\n",
      "<path d='M 35.0336,126.259 27.5389,125.758' style='fill:none;fill-rule:evenodd;stroke:#000000;stroke-width:2px;stroke-linecap:butt;stroke-linejoin:miter;stroke-opacity:1' />\n",
      "<path d='M 27.5389,125.758 20.0443,125.258' style='fill:none;fill-rule:evenodd;stroke:#0000FF;stroke-width:2px;stroke-linecap:butt;stroke-linejoin:miter;stroke-opacity:1' />\n",
      "<path d='M 125.202,56.3894 121.49,48.8387' style='fill:none;fill-rule:evenodd;stroke:#000000;stroke-width:2px;stroke-linecap:butt;stroke-linejoin:miter;stroke-opacity:1' />\n",
      "<path d='M 121.49,48.8387 117.778,41.288' style='fill:none;fill-rule:evenodd;stroke:#33CCCC;stroke-width:2px;stroke-linecap:butt;stroke-linejoin:miter;stroke-opacity:1' />\n",
      "<path d='M 125.202,56.3894 133.212,52.4516' style='fill:none;fill-rule:evenodd;stroke:#000000;stroke-width:2px;stroke-linecap:butt;stroke-linejoin:miter;stroke-opacity:1' />\n",
      "<path d='M 133.212,52.4516 141.222,48.5138' style='fill:none;fill-rule:evenodd;stroke:#33CCCC;stroke-width:2px;stroke-linecap:butt;stroke-linejoin:miter;stroke-opacity:1' />\n",
      "<path d='M 125.202,56.3894 117.193,60.3272' style='fill:none;fill-rule:evenodd;stroke:#000000;stroke-width:2px;stroke-linecap:butt;stroke-linejoin:miter;stroke-opacity:1' />\n",
      "<path d='M 117.193,60.3272 109.183,64.265' style='fill:none;fill-rule:evenodd;stroke:#33CCCC;stroke-width:2px;stroke-linecap:butt;stroke-linejoin:miter;stroke-opacity:1' />\n",
      "<text x='192.541' y='119.52' style='font-size:6px;font-style:normal;font-weight:normal;fill-opacity:1;stroke:none;font-family:sans-serif;text-anchor:start;fill:#0000FF' ><tspan>N</tspan></text>\n",
      "<text x='190.314' y='152.884' style='font-size:6px;font-style:normal;font-weight:normal;fill-opacity:1;stroke:none;font-family:sans-serif;text-anchor:start;fill:#0000FF' ><tspan>N</tspan></text>\n",
      "<text x='207.364' y='147.821' style='font-size:6px;font-style:normal;font-weight:normal;fill-opacity:1;stroke:none;font-family:sans-serif;text-anchor:start;fill:#0000FF' ><tspan>NH</tspan></text>\n",
      "<text x='228.986' y='116.195' style='font-size:6px;font-style:normal;font-weight:normal;fill-opacity:1;stroke:none;font-family:sans-serif;text-anchor:start;fill:#FF0000' ><tspan>O</tspan></text>\n",
      "<text x='149.57' y='115.471' style='font-size:6px;font-style:normal;font-weight:normal;fill-opacity:1;stroke:none;font-family:sans-serif;text-anchor:start;fill:#0000FF' ><tspan>N</tspan></text>\n",
      "<text x='117.216' y='131.263' style='font-size:6px;font-style:normal;font-weight:normal;fill-opacity:1;stroke:none;font-family:sans-serif;text-anchor:start;fill:#FF0000' ><tspan>O</tspan></text>\n",
      "<text x='98.9812' y='94.1715' style='font-size:6px;font-style:normal;font-weight:normal;fill-opacity:1;stroke:none;font-family:sans-serif;text-anchor:start;fill:#FF0000' ><tspan>O</tspan></text>\n",
      "<text x='93.5256' y='165.601' style='font-size:6px;font-style:normal;font-weight:normal;fill-opacity:1;stroke:none;font-family:sans-serif;text-anchor:start;fill:#00CC00' ><tspan>Cl</tspan></text>\n",
      "<text x='14.349' y='124.379' style='font-size:6px;font-style:normal;font-weight:normal;fill-opacity:1;stroke:none;font-family:sans-serif;text-anchor:start;fill:#0000FF' ><tspan>N</tspan></text>\n",
      "<text x='113.558' y='41.288' style='font-size:6px;font-style:normal;font-weight:normal;fill-opacity:1;stroke:none;font-family:sans-serif;text-anchor:start;fill:#33CCCC' ><tspan>F</tspan></text>\n",
      "<text x='141.222' y='50.7161' style='font-size:6px;font-style:normal;font-weight:normal;fill-opacity:1;stroke:none;font-family:sans-serif;text-anchor:start;fill:#33CCCC' ><tspan>F</tspan></text>\n",
      "<text x='104.13' y='68.9513' style='font-size:6px;font-style:normal;font-weight:normal;fill-opacity:1;stroke:none;font-family:sans-serif;text-anchor:start;fill:#33CCCC' ><tspan>F</tspan></text>\n",
      "<metadata>\n",
      "<rdkit:mol xmlns:rdkit = \"http://www.rdkit.org/xml\" version=\"0.9\">\n",
      "<rdkit:atom idx=\"1\" atom-smiles=\"[CH3]\" drawing-x=\"190.464\" drawing-y=\"96.0401\" x=\"4.34784\" y=\"0.906131\" z=\"0\" />\n",
      "<rdkit:atom idx=\"2\" atom-smiles=\"[n]\" drawing-x=\"195.526\" drawing-y=\"116.076\" x=\"4.7153\" y=\"-0.548165\" z=\"0\" />\n",
      "<rdkit:atom idx=\"3\" atom-smiles=\"[c]\" drawing-x=\"182.293\" drawing-y=\"131.949\" x=\"3.75473\" y=\"-1.70026\" z=\"0\" />\n",
      "<rdkit:atom idx=\"4\" atom-smiles=\"[n]\" drawing-x=\"193.299\" drawing-y=\"149.44\" x=\"4.55361\" y=\"-2.96982\" z=\"0\" />\n",
      "<rdkit:atom idx=\"5\" atom-smiles=\"[nH]\" drawing-x=\"213.335\" drawing-y=\"144.377\" x=\"6.0079\" y=\"-2.60237\" z=\"0\" />\n",
      "<rdkit:atom idx=\"6\" atom-smiles=\"[c]\" drawing-x=\"214.712\" drawing-y=\"123.757\" x=\"6.10783\" y=\"-1.1057\" z=\"0\" />\n",
      "<rdkit:atom idx=\"7\" atom-smiles=\"[O]\" drawing-x=\"232.203\" drawing-y=\"112.751\" x=\"7.3774\" y=\"-0.306824\" z=\"0\" />\n",
      "<rdkit:atom idx=\"8\" atom-smiles=\"[CH2]\" drawing-x=\"161.673\" drawing-y=\"130.572\" x=\"2.25806\" y=\"-1.60033\" z=\"0\" />\n",
      "<rdkit:atom idx=\"9\" atom-smiles=\"[n]\" drawing-x=\"152.555\" drawing-y=\"112.026\" x=\"1.59627\" y=\"-0.254211\" z=\"0\" />\n",
      "<rdkit:atom idx=\"10\" atom-smiles=\"[cH]\" drawing-x=\"164.057\" drawing-y=\"94.8574\" x=\"2.43115\" y=\"0.991977\" z=\"0\" />\n",
      "<rdkit:atom idx=\"11\" atom-smiles=\"[cH]\" drawing-x=\"154.94\" drawing-y=\"76.3118\" x=\"1.76935\" y=\"2.33809\" z=\"0\" />\n",
      "<rdkit:atom idx=\"12\" atom-smiles=\"[c]\" drawing-x=\"134.32\" drawing-y=\"74.935\" x=\"0.272687\" y=\"2.43802\" z=\"0\" />\n",
      "<rdkit:atom idx=\"13\" atom-smiles=\"[c]\" drawing-x=\"122.818\" drawing-y=\"92.1039\" x=\"-0.562188\" y=\"1.19184\" z=\"0\" />\n",
      "<rdkit:atom idx=\"14\" atom-smiles=\"[c]\" drawing-x=\"131.935\" drawing-y=\"110.65\" x=\"0.0996044\" y=\"-0.154281\" z=\"0\" />\n",
      "<rdkit:atom idx=\"15\" atom-smiles=\"[O]\" drawing-x=\"120.433\" drawing-y=\"127.818\" x=\"-0.735271\" y=\"-1.40047\" z=\"0\" />\n",
      "<rdkit:atom idx=\"16\" atom-smiles=\"[O]\" drawing-x=\"102.198\" drawing-y=\"90.7272\" x=\"-2.05886\" y=\"1.29177\" z=\"0\" />\n",
      "<rdkit:atom idx=\"17\" atom-smiles=\"[c]\" drawing-x=\"90.6959\" drawing-y=\"107.896\" x=\"-2.89373\" y=\"0.0455775\" z=\"0\" />\n",
      "<rdkit:atom idx=\"18\" atom-smiles=\"[cH]\" drawing-x=\"70.0761\" drawing-y=\"106.519\" x=\"-4.3904\" y=\"0.145507\" z=\"0\" />\n",
      "<rdkit:atom idx=\"19\" atom-smiles=\"[c]\" drawing-x=\"58.5739\" drawing-y=\"123.688\" x=\"-5.22527\" y=\"-1.10068\" z=\"0\" />\n",
      "<rdkit:atom idx=\"20\" atom-smiles=\"[cH]\" drawing-x=\"67.6915\" drawing-y=\"142.234\" x=\"-4.56348\" y=\"-2.4468\" z=\"0\" />\n",
      "<rdkit:atom idx=\"21\" atom-smiles=\"[c]\" drawing-x=\"88.3113\" drawing-y=\"143.611\" x=\"-3.06681\" y=\"-2.54673\" z=\"0\" />\n",
      "<rdkit:atom idx=\"22\" atom-smiles=\"[cH]\" drawing-x=\"99.8135\" drawing-y=\"126.442\" x=\"-2.23194\" y=\"-1.30054\" z=\"0\" />\n",
      "<rdkit:atom idx=\"23\" atom-smiles=\"[Cl]\" drawing-x=\"97.4289\" drawing-y=\"162.156\" x=\"-2.40502\" y=\"-3.89284\" z=\"0\" />\n",
      "<rdkit:atom idx=\"24\" atom-smiles=\"[C]\" drawing-x=\"37.9541\" drawing-y=\"122.311\" x=\"-6.72194\" y=\"-1.00075\" z=\"0\" />\n",
      "<rdkit:atom idx=\"25\" atom-smiles=\"[N]\" drawing-x=\"17.3343\" drawing-y=\"120.935\" x=\"-8.21861\" y=\"-0.900822\" z=\"0\" />\n",
      "<rdkit:atom idx=\"26\" atom-smiles=\"[C]\" drawing-x=\"125.202\" drawing-y=\"56.3894\" x=\"-0.389105\" y=\"3.78414\" z=\"0\" />\n",
      "<rdkit:atom idx=\"27\" atom-smiles=\"[F]\" drawing-x=\"116.085\" drawing-y=\"37.8437\" x=\"-1.0509\" y=\"5.13026\" z=\"0\" />\n",
      "<rdkit:atom idx=\"28\" atom-smiles=\"[F]\" drawing-x=\"143.748\" drawing-y=\"47.2718\" x=\"0.957012\" y=\"4.44593\" z=\"0\" />\n",
      "<rdkit:atom idx=\"29\" atom-smiles=\"[F]\" drawing-x=\"106.657\" drawing-y=\"65.507\" x=\"-1.73522\" y=\"3.12235\" z=\"0\" />\n",
      "<rdkit:bond idx=\"1\" begin-atom-idx=\"1\" end-atom-idx=\"2\" bond-smiles=\"-\" />\n",
      "<rdkit:bond idx=\"2\" begin-atom-idx=\"2\" end-atom-idx=\"3\" bond-smiles=\"-\" />\n",
      "<rdkit:bond idx=\"3\" begin-atom-idx=\"3\" end-atom-idx=\"4\" bond-smiles=\"=\" />\n",
      "<rdkit:bond idx=\"4\" begin-atom-idx=\"4\" end-atom-idx=\"5\" bond-smiles=\"-\" />\n",
      "<rdkit:bond idx=\"5\" begin-atom-idx=\"5\" end-atom-idx=\"6\" bond-smiles=\"-\" />\n",
      "<rdkit:bond idx=\"6\" begin-atom-idx=\"6\" end-atom-idx=\"7\" bond-smiles=\"=\" />\n",
      "<rdkit:bond idx=\"7\" begin-atom-idx=\"3\" end-atom-idx=\"8\" bond-smiles=\"-\" />\n",
      "<rdkit:bond idx=\"8\" begin-atom-idx=\"8\" end-atom-idx=\"9\" bond-smiles=\"-\" />\n",
      "<rdkit:bond idx=\"9\" begin-atom-idx=\"9\" end-atom-idx=\"10\" bond-smiles=\"-\" />\n",
      "<rdkit:bond idx=\"10\" begin-atom-idx=\"10\" end-atom-idx=\"11\" bond-smiles=\"=\" />\n",
      "<rdkit:bond idx=\"11\" begin-atom-idx=\"11\" end-atom-idx=\"12\" bond-smiles=\"-\" />\n",
      "<rdkit:bond idx=\"12\" begin-atom-idx=\"12\" end-atom-idx=\"13\" bond-smiles=\"=\" />\n",
      "<rdkit:bond idx=\"13\" begin-atom-idx=\"13\" end-atom-idx=\"14\" bond-smiles=\"-\" />\n",
      "<rdkit:bond idx=\"14\" begin-atom-idx=\"14\" end-atom-idx=\"15\" bond-smiles=\"=\" />\n",
      "<rdkit:bond idx=\"15\" begin-atom-idx=\"13\" end-atom-idx=\"16\" bond-smiles=\"-\" />\n",
      "<rdkit:bond idx=\"16\" begin-atom-idx=\"16\" end-atom-idx=\"17\" bond-smiles=\"-\" />\n",
      "<rdkit:bond idx=\"17\" begin-atom-idx=\"17\" end-atom-idx=\"18\" bond-smiles=\"=\" />\n",
      "<rdkit:bond idx=\"18\" begin-atom-idx=\"18\" end-atom-idx=\"19\" bond-smiles=\"-\" />\n",
      "<rdkit:bond idx=\"19\" begin-atom-idx=\"19\" end-atom-idx=\"20\" bond-smiles=\"=\" />\n",
      "<rdkit:bond idx=\"20\" begin-atom-idx=\"20\" end-atom-idx=\"21\" bond-smiles=\"-\" />\n",
      "<rdkit:bond idx=\"21\" begin-atom-idx=\"21\" end-atom-idx=\"22\" bond-smiles=\"=\" />\n",
      "<rdkit:bond idx=\"22\" begin-atom-idx=\"21\" end-atom-idx=\"23\" bond-smiles=\"-\" />\n",
      "<rdkit:bond idx=\"23\" begin-atom-idx=\"19\" end-atom-idx=\"24\" bond-smiles=\"-\" />\n",
      "<rdkit:bond idx=\"24\" begin-atom-idx=\"24\" end-atom-idx=\"25\" bond-smiles=\"#\" />\n",
      "<rdkit:bond idx=\"25\" begin-atom-idx=\"12\" end-atom-idx=\"26\" bond-smiles=\"-\" />\n",
      "<rdkit:bond idx=\"26\" begin-atom-idx=\"26\" end-atom-idx=\"27\" bond-smiles=\"-\" />\n",
      "<rdkit:bond idx=\"27\" begin-atom-idx=\"26\" end-atom-idx=\"28\" bond-smiles=\"-\" />\n",
      "<rdkit:bond idx=\"28\" begin-atom-idx=\"26\" end-atom-idx=\"29\" bond-smiles=\"-\" />\n",
      "<rdkit:bond idx=\"29\" begin-atom-idx=\"6\" end-atom-idx=\"2\" bond-smiles=\"-\" />\n",
      "<rdkit:bond idx=\"30\" begin-atom-idx=\"14\" end-atom-idx=\"9\" bond-smiles=\"-\" />\n",
      "<rdkit:bond idx=\"31\" begin-atom-idx=\"22\" end-atom-idx=\"17\" bond-smiles=\"-\" />\n",
      "</rdkit:mol></metadata>\n",
      "</svg>\n",
      "\n"
     ]
    }
   ],
   "source": [
    "print(svg)"
   ]
  },
  {
   "cell_type": "code",
   "execution_count": 31,
   "metadata": {},
   "outputs": [
    {
     "data": {
      "image/png": "[encoded data removed]",
      "text/plain": [
       "<rdkit.Chem.rdchem.Mol at 0x29c2bbc3e40>"
      ]
     },
     "execution_count": 31,
     "metadata": {},
     "output_type": "execute_result"
    }
   ],
   "source": [
    "nm = Chem.MolFromRDKitSVG(svg)\n",
    "nm.ClearComputedProps()\n",
    "Chem.SanitizeMol(nm)\n",
    "nm"
   ]
  },
  {
   "cell_type": "code",
   "execution_count": 32,
   "metadata": {},
   "outputs": [
    {
     "data": {
      "text/plain": [
       "True"
      ]
     },
     "execution_count": 32,
     "metadata": {},
     "output_type": "execute_result"
    }
   ],
   "source": [
    "Chem.MolToSmiles(nm) == Chem.MolToSmiles(doravirine)"
   ]
  },
  {
   "cell_type": "code",
   "execution_count": null,
   "metadata": {},
   "outputs": [],
   "source": []
  }
 ],
 "metadata": {
  "anaconda-cloud": {},
  "hide_input": false,
  "kernelspec": {
   "display_name": "Python 3",
   "language": "python",
   "name": "python3"
  },
  "language_info": {
   "codemirror_mode": {
    "name": "ipython",
    "version": 3
   },
   "file_extension": ".py",
   "mimetype": "text/x-python",
   "name": "python",
   "nbconvert_exporter": "python",
   "pygments_lexer": "ipython3",
   "version": "3.6.5"
  },
  "widgets": {
   "state": {
    "1a85679917c8457c97fc93ed90b163a1": {
     "views": []
    },
    "48d3e527805b422dae25dcfe9914e52a": {
     "views": []
    },
    "490e41b9237147a09cdac3d0aade78f8": {
     "views": []
    },
    "5097cba5d3014d299c050e7a1ba215b1": {
     "views": []
    },
    "53b890d7362f4abcba84bdf0f2aeec32": {
     "views": []
    },
    "56e3b1cb105c4a53ab2efea2fb6c2785": {
     "views": [
      {
       "cell_index": 84
      }
     ]
    },
    "5c62af660275471fafcfea5c91aa0e9f": {
     "views": []
    },
    "5eccf1962b2f483287eb28d0dba0a081": {
     "views": []
    },
    "8729dd7d926a4de6b80b07c89949ab14": {
     "views": []
    },
    "8abbd54cffce488e9d00f789381cbb67": {
     "views": []
    },
    "8b8a90cc7de547eaacf8935592a127fe": {
     "views": []
    },
    "95502494019d45a69f7dbe505426949d": {
     "views": []
    },
    "9d4d5e863db3461cbea48d82f632cdec": {
     "views": []
    },
    "a3aef1bcf2034880854658e433d713d5": {
     "views": [
      {
       "cell_index": 78
      }
     ]
    },
    "a52cb9437bb2429282c8d9a675da9c54": {
     "views": []
    },
    "b49b16507a6049d888fbdb506c8d0fca": {
     "views": []
    },
    "b69854c906ac4a96a404c1d3ced0cb47": {
     "views": []
    },
    "d6bc73995e7c486ea22b7106ff0f854f": {
     "views": []
    },
    "da81e91c80964af299c12c86172efd69": {
     "views": []
    },
    "e1b8471024f34f68b56c7ea6d52b77d4": {
     "views": [
      {
       "cell_index": 88
      }
     ]
    }
   },
   "version": "1.1.2"
  }
 },
 "nbformat": 4,
 "nbformat_minor": 1
}
